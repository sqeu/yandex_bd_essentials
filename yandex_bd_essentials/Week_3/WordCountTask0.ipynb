{
 "cells": [
  {
   "cell_type": "code",
   "execution_count": 1,
   "metadata": {},
   "outputs": [
    {
     "name": "stdout",
     "output_type": "stream",
     "text": [
      "Writing mapper.py\n"
     ]
    }
   ],
   "source": [
    "%%writefile mapper.py\n",
    "\n",
    "import sys\n",
    "import re\n",
    "\n",
    "reload(sys)\n",
    "sys.setdefaultencoding('utf-8') # required to convert to unicode\n",
    "\n",
    "for line in sys.stdin:\n",
    "    try:\n",
    "        article_id, text = unicode(line.strip()).split('\\t', 1)\n",
    "    except ValueError as e:\n",
    "        continue\n",
    "    words = re.split(\"\\W*\\s+\\W*\", text, flags=re.UNICODE)\n",
    "    for word in words:\n",
    "        print >> sys.stderr, \"reporter:counter:Wiki stats,Total words,%d\" % 1\n",
    "        print \"%s\\t%d\" % (word.lower(), 1)"
   ]
  },
  {
   "cell_type": "code",
   "execution_count": 2,
   "metadata": {},
   "outputs": [
    {
     "name": "stdout",
     "output_type": "stream",
     "text": [
      "Writing reducer.py\n"
     ]
    }
   ],
   "source": [
    "%%writefile reducer.py\n",
    "\n",
    "import sys\n",
    "\n",
    "current_key = None\n",
    "word_sum = 0"
   ]
  },
  {
   "cell_type": "code",
   "execution_count": 3,
   "metadata": {},
   "outputs": [
    {
     "name": "stdout",
     "output_type": "stream",
     "text": [
      "Appending to reducer.py\n"
     ]
    }
   ],
   "source": [
    "%%writefile -a reducer.py\n",
    "\n",
    "for line in sys.stdin:\n",
    "    try:\n",
    "        key, count = line.strip().split('\\t', 1)\n",
    "        count = int(count)\n",
    "    except ValueError as e:\n",
    "        continue\n",
    "    if current_key != key:\n",
    "        if current_key:\n",
    "            print \"%s\\t%d\" % (current_key, word_sum)\n",
    "        word_sum = 0\n",
    "        current_key = key\n",
    "    word_sum += count\n",
    "\n",
    "if current_key:\n",
    "    print \"%s\\t%d\" % (current_key, word_sum)"
   ]
  },
  {
   "cell_type": "code",
   "execution_count": 4,
   "metadata": {},
   "outputs": [
    {
     "name": "stdout",
     "output_type": "stream",
     "text": [
      "Found 1 items\r\n",
      "drwxrwxrwx   - jovyan supergroup          0 2018-08-01 17:15 /data/wiki/en_articles_part\r\n"
     ]
    }
   ],
   "source": [
    "! hdfs dfs -ls /data/wiki"
   ]
  },
  {
   "cell_type": "code",
   "execution_count": 5,
   "metadata": {},
   "outputs": [
    {
     "name": "stdout",
     "output_type": "stream",
     "text": [
      "0%however\t1\n",
      "0&\\mathrm{if\t1\n",
      "0(8)320-1234\t1\n",
      "0)).(1\t2\n",
      "0,03\t1\n",
      "0,1,...,n\t1\n",
      "0,1,0\t1\n",
      "0,1,\\dots,n\t1\n",
      "0,5\t1\n",
      "0,50\t1\n"
     ]
    },
    {
     "name": "stderr",
     "output_type": "stream",
     "text": [
      "rm: `wordcount_result_1565562677284530': No such file or directory\n",
      "19/08/11 22:31:23 INFO client.RMProxy: Connecting to ResourceManager at /0.0.0.0:8032\n",
      "19/08/11 22:31:23 INFO client.RMProxy: Connecting to ResourceManager at /0.0.0.0:8032\n",
      "19/08/11 22:31:25 INFO mapred.FileInputFormat: Total input files to process : 1\n",
      "19/08/11 22:31:25 WARN hdfs.DataStreamer: Caught exception\n",
      "java.lang.InterruptedException\n",
      "\tat java.lang.Object.wait(Native Method)\n",
      "\tat java.lang.Thread.join(Thread.java:1252)\n",
      "\tat java.lang.Thread.join(Thread.java:1326)\n",
      "\tat org.apache.hadoop.hdfs.DataStreamer.closeResponder(DataStreamer.java:927)\n",
      "\tat org.apache.hadoop.hdfs.DataStreamer.endBlock(DataStreamer.java:578)\n",
      "\tat org.apache.hadoop.hdfs.DataStreamer.run(DataStreamer.java:755)\n",
      "19/08/11 22:31:25 WARN hdfs.DataStreamer: Caught exception\n",
      "java.lang.InterruptedException\n",
      "\tat java.lang.Object.wait(Native Method)\n",
      "\tat java.lang.Thread.join(Thread.java:1252)\n",
      "\tat java.lang.Thread.join(Thread.java:1326)\n",
      "\tat org.apache.hadoop.hdfs.DataStreamer.closeResponder(DataStreamer.java:927)\n",
      "\tat org.apache.hadoop.hdfs.DataStreamer.endBlock(DataStreamer.java:578)\n",
      "\tat org.apache.hadoop.hdfs.DataStreamer.run(DataStreamer.java:755)\n",
      "19/08/11 22:31:25 INFO mapreduce.JobSubmitter: number of splits:2\n",
      "19/08/11 22:31:25 INFO mapreduce.JobSubmitter: Submitting tokens for job: job_1565562207743_0001\n",
      "19/08/11 22:31:26 INFO impl.YarnClientImpl: Submitted application application_1565562207743_0001\n",
      "19/08/11 22:31:26 INFO mapreduce.Job: The url to track the job: http://f5b39ea81215:8088/proxy/application_1565562207743_0001/\n",
      "19/08/11 22:31:26 INFO mapreduce.Job: Running job: job_1565562207743_0001\n",
      "19/08/11 22:31:40 INFO mapreduce.Job: Job job_1565562207743_0001 running in uber mode : false\n",
      "19/08/11 22:31:40 INFO mapreduce.Job:  map 0% reduce 0%\n",
      "19/08/11 22:32:04 INFO mapreduce.Job:  map 4% reduce 0%\n",
      "19/08/11 22:32:10 INFO mapreduce.Job:  map 7% reduce 0%\n",
      "19/08/11 22:32:15 INFO mapreduce.Job:  map 9% reduce 0%\n",
      "19/08/11 22:32:21 INFO mapreduce.Job:  map 12% reduce 0%\n",
      "19/08/11 22:32:27 INFO mapreduce.Job:  map 14% reduce 0%\n",
      "19/08/11 22:32:33 INFO mapreduce.Job:  map 17% reduce 0%\n",
      "19/08/11 22:32:39 INFO mapreduce.Job:  map 19% reduce 0%\n",
      "19/08/11 22:32:45 INFO mapreduce.Job:  map 22% reduce 0%\n",
      "19/08/11 22:32:51 INFO mapreduce.Job:  map 24% reduce 0%\n",
      "19/08/11 22:32:58 INFO mapreduce.Job:  map 26% reduce 0%\n",
      "19/08/11 22:33:04 INFO mapreduce.Job:  map 28% reduce 0%\n",
      "19/08/11 22:33:11 INFO mapreduce.Job:  map 29% reduce 0%\n",
      "19/08/11 22:33:36 INFO mapreduce.Job:  map 30% reduce 0%\n",
      "19/08/11 22:33:42 INFO mapreduce.Job:  map 31% reduce 0%\n",
      "19/08/11 22:33:46 INFO mapreduce.Job:  map 32% reduce 0%\n",
      "19/08/11 22:33:48 INFO mapreduce.Job:  map 33% reduce 0%\n",
      "19/08/11 22:33:52 INFO mapreduce.Job:  map 34% reduce 0%\n",
      "19/08/11 22:33:54 INFO mapreduce.Job:  map 35% reduce 0%\n",
      "19/08/11 22:33:58 INFO mapreduce.Job:  map 36% reduce 0%\n",
      "19/08/11 22:34:01 INFO mapreduce.Job:  map 37% reduce 0%\n",
      "19/08/11 22:34:20 INFO mapreduce.Job:  map 40% reduce 0%\n",
      "19/08/11 22:34:41 INFO mapreduce.Job:  map 41% reduce 0%\n",
      "19/08/11 22:34:57 INFO mapreduce.Job:  map 42% reduce 0%\n",
      "19/08/11 22:35:05 INFO mapreduce.Job:  map 43% reduce 0%\n",
      "19/08/11 22:36:29 INFO mapreduce.Job:  map 44% reduce 0%\n",
      "19/08/11 22:36:35 INFO mapreduce.Job:  map 45% reduce 0%\n",
      "19/08/11 22:36:43 INFO mapreduce.Job:  map 46% reduce 0%\n",
      "19/08/11 22:36:47 INFO mapreduce.Job:  map 47% reduce 0%\n",
      "19/08/11 22:36:54 INFO mapreduce.Job:  map 49% reduce 0%\n",
      "19/08/11 22:36:59 INFO mapreduce.Job:  map 50% reduce 0%\n",
      "19/08/11 22:37:00 INFO mapreduce.Job:  map 51% reduce 0%\n",
      "19/08/11 22:37:05 INFO mapreduce.Job:  map 52% reduce 0%\n",
      "19/08/11 22:37:06 INFO mapreduce.Job:  map 54% reduce 0%\n",
      "19/08/11 22:37:11 INFO mapreduce.Job:  map 55% reduce 0%\n",
      "19/08/11 22:37:12 INFO mapreduce.Job:  map 56% reduce 0%\n",
      "19/08/11 22:37:17 INFO mapreduce.Job:  map 57% reduce 0%\n",
      "19/08/11 22:37:18 INFO mapreduce.Job:  map 58% reduce 0%\n",
      "19/08/11 22:37:23 INFO mapreduce.Job:  map 60% reduce 0%\n",
      "19/08/11 22:37:24 INFO mapreduce.Job:  map 61% reduce 0%\n",
      "19/08/11 22:37:29 INFO mapreduce.Job:  map 63% reduce 0%\n",
      "19/08/11 22:37:30 INFO mapreduce.Job:  map 64% reduce 0%\n",
      "19/08/11 22:37:36 INFO mapreduce.Job:  map 65% reduce 0%\n",
      "19/08/11 22:37:37 INFO mapreduce.Job:  map 66% reduce 0%\n",
      "19/08/11 22:37:42 INFO mapreduce.Job:  map 67% reduce 0%\n",
      "19/08/11 22:37:48 INFO mapreduce.Job:  map 83% reduce 0%\n",
      "19/08/11 22:37:49 INFO mapreduce.Job:  map 100% reduce 0%\n",
      "19/08/11 22:38:20 INFO mapreduce.Job:  map 100% reduce 25%\n",
      "19/08/11 22:38:22 INFO mapreduce.Job:  map 100% reduce 38%\n",
      "19/08/11 22:38:25 INFO mapreduce.Job:  map 100% reduce 50%\n",
      "19/08/11 22:38:26 INFO mapreduce.Job:  map 100% reduce 63%\n",
      "19/08/11 22:38:27 INFO mapreduce.Job:  map 100% reduce 75%\n",
      "19/08/11 22:38:36 INFO mapreduce.Job:  map 100% reduce 100%\n",
      "19/08/11 22:38:36 INFO mapreduce.Job: Job job_1565562207743_0001 completed successfully\n",
      "19/08/11 22:38:36 INFO mapreduce.Job: Counters: 51\n",
      "\tFile System Counters\n",
      "\t\tFILE: Number of bytes read=17954826\n",
      "\t\tFILE: Number of bytes written=28258053\n",
      "\t\tFILE: Number of read operations=0\n",
      "\t\tFILE: Number of large read operations=0\n",
      "\t\tFILE: Number of write operations=0\n",
      "\t\tHDFS: Number of bytes read=76874501\n",
      "\t\tHDFS: Number of bytes written=5370513\n",
      "\t\tHDFS: Number of read operations=30\n",
      "\t\tHDFS: Number of large read operations=0\n",
      "\t\tHDFS: Number of write operations=16\n",
      "\tJob Counters \n",
      "\t\tKilled reduce tasks=1\n",
      "\t\tLaunched map tasks=2\n",
      "\t\tLaunched reduce tasks=9\n",
      "\t\tData-local map tasks=2\n",
      "\t\tTotal time spent by all maps in occupied slots (ms)=732209\n",
      "\t\tTotal time spent by all reduces in occupied slots (ms)=218287\n",
      "\t\tTotal time spent by all map tasks (ms)=732209\n",
      "\t\tTotal time spent by all reduce tasks (ms)=218287\n",
      "\t\tTotal vcore-milliseconds taken by all map tasks=732209\n",
      "\t\tTotal vcore-milliseconds taken by all reduce tasks=218287\n",
      "\t\tTotal megabyte-milliseconds taken by all map tasks=749782016\n",
      "\t\tTotal megabyte-milliseconds taken by all reduce tasks=223525888\n",
      "\tMap-Reduce Framework\n",
      "\t\tMap input records=4100\n",
      "\t\tMap output records=11937375\n",
      "\t\tMap output bytes=97842436\n",
      "\t\tMap output materialized bytes=8952763\n",
      "\t\tInput split bytes=228\n",
      "\t\tCombine input records=11937375\n",
      "\t\tCombine output records=640011\n",
      "\t\tReduce input groups=427175\n",
      "\t\tReduce shuffle bytes=8952763\n",
      "\t\tReduce input records=640011\n",
      "\t\tReduce output records=427175\n",
      "\t\tSpilled Records=1920033\n",
      "\t\tShuffled Maps =16\n",
      "\t\tFailed Shuffles=0\n",
      "\t\tMerged Map outputs=16\n",
      "\t\tGC time elapsed (ms)=16087\n",
      "\t\tCPU time spent (ms)=212000\n",
      "\t\tPhysical memory (bytes) snapshot=1125720064\n",
      "\t\tVirtual memory (bytes) snapshot=19321049088\n",
      "\t\tTotal committed heap usage (bytes)=383295488\n",
      "\tShuffle Errors\n",
      "\t\tBAD_ID=0\n",
      "\t\tCONNECTION=0\n",
      "\t\tIO_ERROR=0\n",
      "\t\tWRONG_LENGTH=0\n",
      "\t\tWRONG_MAP=0\n",
      "\t\tWRONG_REDUCE=0\n",
      "\tWiki stats\n",
      "\t\tTotal words=11937375\n",
      "\tFile Input Format Counters \n",
      "\t\tBytes Read=76874273\n",
      "\tFile Output Format Counters \n",
      "\t\tBytes Written=5370513\n",
      "19/08/11 22:38:36 INFO streaming.StreamJob: Output directory: wordcount_result_1565562677284530\n",
      "cat: Unable to write to output stream.\n"
     ]
    }
   ],
   "source": [
    "%%bash\n",
    "\n",
    "OUT_DIR=\"wordcount_result_\"$(date +\"%s%6N\")\n",
    "NUM_REDUCERS=8\n",
    "\n",
    "hdfs dfs -rm -r -skipTrash ${OUT_DIR} > /dev/null\n",
    "\n",
    "yarn jar /opt/cloudera/parcels/CDH/lib/hadoop-mapreduce/hadoop-streaming.jar \\\n",
    "    -D mapred.jab.name=\"Streaming wordCount\" \\\n",
    "    -D mapreduce.job.reduces=${NUM_REDUCERS} \\\n",
    "    -files mapper.py,reducer.py \\\n",
    "    -mapper \"python mapper.py\" \\\n",
    "    -combiner \"python reducer.py\" \\\n",
    "    -reducer \"python reducer.py\" \\\n",
    "    -input /data/wiki/en_articles_part \\\n",
    "    -output ${OUT_DIR} > /dev/null\n",
    "\n",
    "hdfs dfs -cat ${OUT_DIR}/part-00000 | head"
   ]
  },
  {
   "cell_type": "code",
   "execution_count": null,
   "metadata": {},
   "outputs": [],
   "source": []
  }
 ],
 "metadata": {
  "kernelspec": {
   "display_name": "Python 2",
   "language": "python",
   "name": "python2"
  },
  "language_info": {
   "codemirror_mode": {
    "name": "ipython",
    "version": 2
   },
   "file_extension": ".py",
   "mimetype": "text/x-python",
   "name": "python",
   "nbconvert_exporter": "python",
   "pygments_lexer": "ipython2",
   "version": "2.7.12"
  }
 },
 "nbformat": 4,
 "nbformat_minor": 2
}
