{
 "cells": [
  {
   "cell_type": "markdown",
   "metadata": {
    "colab_type": "text",
    "id": "Xsd0oermS80K"
   },
   "source": [
    "# Hadoop Streaming assignment 3: Name count"
   ]
  },
  {
   "cell_type": "markdown",
   "metadata": {
    "colab_type": "text",
    "id": "V_0wfvKjS80L"
   },
   "source": [
    "Make WordCount program for all the names in the dataset. Name is a word with the following properties:\n",
    "\n",
    "The first character is not a digit (other characters can be digits).\n",
    "The first character is uppercase, all the other characters that are letters are lowercase.\n",
    "There are less than 0.5% occurrences of this word, when this word regardless to its case appears in the dataset and the condition (2) is not met.\n",
    "Order by quantity, most popular first, output format:\n",
    "\n",
    "name <tab> count\n",
    "\n",
    "The result is the 5th line in the output\n",
    "\n",
    "The result on the sample dataset:\n",
    "french 5742"
   ]
  },
  {
   "cell_type": "markdown",
   "metadata": {
    "colab_type": "text",
    "id": "EpO7whLNS80M"
   },
   "source": [
    "## Step 1. Create the mapper.\n",
    "\n",
    "<b>Hint:</b> Create the mapper, which calculates Total word and Stop word amounts. You may redirect this information to sys.stderr. This will make it possible to parse these data on the next steps.\n",
    "\n",
    "Example of the redirections:\n",
    "\n",
    "`print >> sys.stderr, \"reporter:counter:Wiki stats,Total words,%d\" % count`\n",
    "\n",
    "Remember about the Distributed cache. If we add option `-files mapper.py,reducer.py,/datasets/stop_words_en.txt`, then `mapper.py, reducer.py` and `stop_words_en.txt` file will be in the same directory on the datanodes. Hence, it is necessary to use a relative path `stop_words_en.txt` from the mapper to access this txt file."
   ]
  },
  {
   "cell_type": "code",
   "execution_count": 12,
   "metadata": {
    "colab": {
     "autoexec": {
      "startup": false,
      "wait_interval": 0
     }
    },
    "colab_type": "code",
    "id": "KU56zkC0S80M"
   },
   "outputs": [
    {
     "name": "stdout",
     "output_type": "stream",
     "text": [
      "Overwriting mapper1.py\n"
     ]
    }
   ],
   "source": [
    "%%writefile mapper1.py\n",
    "#! /usr/bin/python\n",
    "import sys\n",
    "import re\n",
    "                    \n",
    "for line in sys.stdin:   \n",
    "    article_id, text = line.strip().split('\\t', 1)\n",
    "    try:\n",
    "        words = re.split('\\W*\\s+\\W*', text.strip())\n",
    "        for word in words:\n",
    "            cond1=word[0].isalpha()\n",
    "            cond2=not word[0].islower() and word[1:].islower()\n",
    "            if cond1:\n",
    "                print(\"{}\\t{}\\t{}\".format(word.lower(), 1,int(cond2)))\n",
    "    except Exception as e:\n",
    "        continue\n"
   ]
  },
  {
   "cell_type": "markdown",
   "metadata": {
    "colab_type": "text",
    "id": "-3EM-tBES80O"
   },
   "source": [
    "## Step 2. Create the reducer.\n",
    "\n",
    "Create the reducer, which will accumulate the information after the mapper step. You may implement the combiner if you want. It can be useful from optimizing and speed up your computations (see the lectures from the Week 2 for more details)."
   ]
  },
  {
   "cell_type": "code",
   "execution_count": 11,
   "metadata": {
    "colab": {
     "autoexec": {
      "startup": false,
      "wait_interval": 0
     }
    },
    "colab_type": "code",
    "id": "yslvpwpfS80P"
   },
   "outputs": [
    {
     "name": "stdout",
     "output_type": "stream",
     "text": [
      "Overwriting reducer1.py\n"
     ]
    }
   ],
   "source": [
    "%%writefile reducer1.py\n",
    "#! /usr/bin/python\n",
    "# Your code for reducer here.\n",
    "import sys\n",
    "\n",
    "current_word = None\n",
    "current_count = 0\n",
    "sum_name_count = 0\n",
    "for line in sys.stdin:\n",
    "    try:\n",
    "        word, count, name_count = line.strip().split('\\t', 2)\n",
    "        count = int(count)\n",
    "        name_count = int(name_count)\n",
    "        if current_word != word:\n",
    "            if current_word:\n",
    "                print(\"{}\\t{}\\t{}\".format(current_word,sum_name_count,current_count))\n",
    "            current_count = 0\n",
    "            current_word = word\n",
    "            sum_name_count=0\n",
    "            \n",
    "        current_count  += count\n",
    "        sum_name_count += name_count\n",
    "        \n",
    "    except Exception as e:\n",
    "        continue\n",
    "    \n",
    "if current_word:\n",
    "    print(\"{}\\t{}\\t{}\".format(current_word,sum_name_count,current_count))"
   ]
  },
  {
   "cell_type": "markdown",
   "metadata": {
    "colab_type": "text",
    "id": "MZQKrDecS80Q"
   },
   "source": [
    "## Step 3. Create second MapReduce.\n"
   ]
  },
  {
   "cell_type": "code",
   "execution_count": 21,
   "metadata": {
    "colab": {
     "autoexec": {
      "startup": false,
      "wait_interval": 0
     }
    },
    "colab_type": "code",
    "id": "XptufhbMS80R"
   },
   "outputs": [
    {
     "name": "stdout",
     "output_type": "stream",
     "text": [
      "Overwriting mapper2.py\n"
     ]
    }
   ],
   "source": [
    "%%writefile mapper2.py\n",
    "\n",
    "import sys\n",
    "\n",
    "for line in sys.stdin:\n",
    "    try:\n",
    "        word, name_count,count = line.strip().split('\\t', 2)\n",
    "        count = int(count)\n",
    "        name_count = int(name_count)\n",
    "        print(\"{}\\t{}\\t{}\".format(name_count,count,word))\n",
    "        \n",
    "    except Exception as e:\n",
    "        continue\n"
   ]
  },
  {
   "cell_type": "code",
   "execution_count": 22,
   "metadata": {},
   "outputs": [
    {
     "name": "stdout",
     "output_type": "stream",
     "text": [
      "Overwriting reducer2.py\n"
     ]
    }
   ],
   "source": [
    "%%writefile reducer2.py\n",
    "\n",
    "import sys\n",
    "\n",
    "for line in sys.stdin:\n",
    "    try:\n",
    "        name_count, count, word = line.strip().split('\\t', 2)\n",
    "        count = int(count)\n",
    "        name_count = int(name_count)\n",
    "        if float(name_count)/float(count) >= 0.995:\n",
    "            print(\"{0}\\t{1}\".format(word, name_count))\n",
    "    except Exception as e:\n",
    "        continue"
   ]
  },
  {
   "cell_type": "markdown",
   "metadata": {
    "colab_type": "text",
    "id": "O_7XrxbKS80S"
   },
   "source": [
    "## Step 4. Bash commands\n",
    "\n"
   ]
  },
  {
   "cell_type": "code",
   "execution_count": 13,
   "metadata": {
    "colab": {
     "autoexec": {
      "startup": false,
      "wait_interval": 0
     }
    },
    "colab_type": "code",
    "id": "bG3omEqzS80S",
    "scrolled": false
   },
   "outputs": [
    {
     "name": "stderr",
     "output_type": "stream",
     "text": [
      "rm: `task_3_1_1566061416127044': No such file or directory\n",
      "19/08/17 17:03:42 INFO client.RMProxy: Connecting to ResourceManager at /0.0.0.0:8032\n",
      "19/08/17 17:03:43 INFO client.RMProxy: Connecting to ResourceManager at /0.0.0.0:8032\n",
      "19/08/17 17:03:44 WARN hdfs.DataStreamer: Caught exception\n",
      "java.lang.InterruptedException\n",
      "\tat java.lang.Object.wait(Native Method)\n",
      "\tat java.lang.Thread.join(Thread.java:1252)\n",
      "\tat java.lang.Thread.join(Thread.java:1326)\n",
      "\tat org.apache.hadoop.hdfs.DataStreamer.closeResponder(DataStreamer.java:927)\n",
      "\tat org.apache.hadoop.hdfs.DataStreamer.endBlock(DataStreamer.java:578)\n",
      "\tat org.apache.hadoop.hdfs.DataStreamer.run(DataStreamer.java:755)\n",
      "19/08/17 17:03:44 INFO mapred.FileInputFormat: Total input files to process : 1\n",
      "19/08/17 17:03:44 WARN hdfs.DataStreamer: Caught exception\n",
      "java.lang.InterruptedException\n",
      "\tat java.lang.Object.wait(Native Method)\n",
      "\tat java.lang.Thread.join(Thread.java:1252)\n",
      "\tat java.lang.Thread.join(Thread.java:1326)\n",
      "\tat org.apache.hadoop.hdfs.DataStreamer.closeResponder(DataStreamer.java:927)\n",
      "\tat org.apache.hadoop.hdfs.DataStreamer.endBlock(DataStreamer.java:578)\n",
      "\tat org.apache.hadoop.hdfs.DataStreamer.run(DataStreamer.java:755)\n",
      "19/08/17 17:03:44 INFO mapreduce.JobSubmitter: number of splits:2\n",
      "19/08/17 17:03:44 INFO mapreduce.JobSubmitter: Submitting tokens for job: job_1566058984755_0002\n",
      "19/08/17 17:03:45 INFO impl.YarnClientImpl: Submitted application application_1566058984755_0002\n",
      "19/08/17 17:03:45 INFO mapreduce.Job: The url to track the job: http://b4325ed728cd:8088/proxy/application_1566058984755_0002/\n",
      "19/08/17 17:03:45 INFO mapreduce.Job: Running job: job_1566058984755_0002\n",
      "19/08/17 17:03:56 INFO mapreduce.Job: Job job_1566058984755_0002 running in uber mode : false\n",
      "19/08/17 17:03:56 INFO mapreduce.Job:  map 0% reduce 0%\n",
      "19/08/17 17:04:20 INFO mapreduce.Job:  map 17% reduce 0%\n",
      "19/08/17 17:04:26 INFO mapreduce.Job:  map 32% reduce 0%\n",
      "19/08/17 17:04:33 INFO mapreduce.Job:  map 37% reduce 0%\n",
      "19/08/17 17:04:58 INFO mapreduce.Job:  map 38% reduce 0%\n",
      "19/08/17 17:05:06 INFO mapreduce.Job:  map 41% reduce 0%\n",
      "19/08/17 17:05:07 INFO mapreduce.Job:  map 44% reduce 0%\n",
      "19/08/17 17:05:12 INFO mapreduce.Job:  map 45% reduce 0%\n",
      "19/08/17 17:05:18 INFO mapreduce.Job:  map 47% reduce 0%\n",
      "19/08/17 17:05:23 INFO mapreduce.Job:  map 51% reduce 0%\n",
      "19/08/17 17:05:41 INFO mapreduce.Job:  map 54% reduce 0%\n",
      "19/08/17 17:05:47 INFO mapreduce.Job:  map 64% reduce 0%\n",
      "19/08/17 17:05:53 INFO mapreduce.Job:  map 67% reduce 0%\n",
      "19/08/17 17:05:59 INFO mapreduce.Job:  map 75% reduce 0%\n",
      "19/08/17 17:06:05 INFO mapreduce.Job:  map 99% reduce 0%\n",
      "19/08/17 17:06:06 INFO mapreduce.Job:  map 100% reduce 0%\n",
      "19/08/17 17:06:37 INFO mapreduce.Job:  map 100% reduce 34%\n",
      "19/08/17 17:06:43 INFO mapreduce.Job:  map 100% reduce 51%\n",
      "19/08/17 17:06:45 INFO mapreduce.Job:  map 100% reduce 67%\n",
      "19/08/17 17:06:49 INFO mapreduce.Job:  map 100% reduce 72%\n",
      "19/08/17 17:06:51 INFO mapreduce.Job:  map 100% reduce 73%\n",
      "19/08/17 17:06:54 INFO mapreduce.Job:  map 100% reduce 76%\n",
      "19/08/17 17:06:55 INFO mapreduce.Job:  map 100% reduce 78%\n",
      "19/08/17 17:06:57 INFO mapreduce.Job:  map 100% reduce 79%\n",
      "19/08/17 17:07:00 INFO mapreduce.Job:  map 100% reduce 82%\n",
      "19/08/17 17:07:01 INFO mapreduce.Job:  map 100% reduce 85%\n",
      "19/08/17 17:07:04 INFO mapreduce.Job:  map 100% reduce 87%\n",
      "19/08/17 17:07:07 INFO mapreduce.Job:  map 100% reduce 91%\n",
      "19/08/17 17:07:10 INFO mapreduce.Job:  map 100% reduce 95%\n",
      "19/08/17 17:07:12 INFO mapreduce.Job:  map 100% reduce 97%\n",
      "19/08/17 17:07:13 INFO mapreduce.Job:  map 100% reduce 100%\n",
      "19/08/17 17:07:15 INFO mapreduce.Job: Job job_1566058984755_0002 completed successfully\n",
      "19/08/17 17:07:16 INFO mapreduce.Job: Counters: 49\n",
      "\tFile System Counters\n",
      "\t\tFILE: Number of bytes read=280966143\n",
      "\t\tFILE: Number of bytes written=422250770\n",
      "\t\tFILE: Number of read operations=0\n",
      "\t\tFILE: Number of large read operations=0\n",
      "\t\tFILE: Number of write operations=0\n",
      "\t\tHDFS: Number of bytes read=76874501\n",
      "\t\tHDFS: Number of bytes written=5484180\n",
      "\t\tHDFS: Number of read operations=18\n",
      "\t\tHDFS: Number of large read operations=0\n",
      "\t\tHDFS: Number of write operations=8\n",
      "\tJob Counters \n",
      "\t\tLaunched map tasks=2\n",
      "\t\tLaunched reduce tasks=4\n",
      "\t\tData-local map tasks=2\n",
      "\t\tTotal time spent by all maps in occupied slots (ms)=252953\n",
      "\t\tTotal time spent by all reduces in occupied slots (ms)=242205\n",
      "\t\tTotal time spent by all map tasks (ms)=252953\n",
      "\t\tTotal time spent by all reduce tasks (ms)=242205\n",
      "\t\tTotal vcore-milliseconds taken by all map tasks=252953\n",
      "\t\tTotal vcore-milliseconds taken by all reduce tasks=242205\n",
      "\t\tTotal megabyte-milliseconds taken by all map tasks=259023872\n",
      "\t\tTotal megabyte-milliseconds taken by all reduce tasks=248017920\n",
      "\tMap-Reduce Framework\n",
      "\t\tMap input records=4100\n",
      "\t\tMap output records=11472777\n",
      "\t\tMap output bytes=117525361\n",
      "\t\tMap output materialized bytes=140470972\n",
      "\t\tInput split bytes=228\n",
      "\t\tCombine input records=0\n",
      "\t\tCombine output records=0\n",
      "\t\tReduce input groups=369512\n",
      "\t\tReduce shuffle bytes=140470972\n",
      "\t\tReduce input records=11472777\n",
      "\t\tReduce output records=369512\n",
      "\t\tSpilled Records=34418331\n",
      "\t\tShuffled Maps =8\n",
      "\t\tFailed Shuffles=0\n",
      "\t\tMerged Map outputs=8\n",
      "\t\tGC time elapsed (ms)=10273\n",
      "\t\tCPU time spent (ms)=100480\n",
      "\t\tPhysical memory (bytes) snapshot=847294464\n",
      "\t\tVirtual memory (bytes) snapshot=11589656576\n",
      "\t\tTotal committed heap usage (bytes)=528232448\n",
      "\tShuffle Errors\n",
      "\t\tBAD_ID=0\n",
      "\t\tCONNECTION=0\n",
      "\t\tIO_ERROR=0\n",
      "\t\tWRONG_LENGTH=0\n",
      "\t\tWRONG_MAP=0\n",
      "\t\tWRONG_REDUCE=0\n",
      "\tFile Input Format Counters \n",
      "\t\tBytes Read=76874273\n",
      "\tFile Output Format Counters \n",
      "\t\tBytes Written=5484180\n",
      "19/08/17 17:07:16 INFO streaming.StreamJob: Output directory: task_3_1_1566061416127044\n"
     ]
    }
   ],
   "source": [
    "%%bash\n",
    "\n",
    "OUT_DIR_1=\"task_3_1_\"$(date +\"%s%6N\")\n",
    "NUM_REDUCERS=4\n",
    "\n",
    "hdfs dfs -rm -r -skipTrash ${OUT_DIR_1}* > /dev/null\n",
    "\n",
    "yarn jar /opt/cloudera/parcels/CDH/lib/hadoop-mapreduce/hadoop-streaming.jar \\\n",
    "    -D mapred.jab.name=\"NamesCount\" \\\n",
    "    -D mapreduce.job.reduces=${NUM_REDUCERS} \\\n",
    "    -files mapper1.py,reducer1.py \\\n",
    "    -mapper \"python mapper1.py\" \\\n",
    "    -reducer \"python reducer1.py\" \\\n",
    "    -input /data/wiki/en_articles_part \\\n",
    "    -output ${OUT_DIR_1} > /dev/null\n",
    "\n",
    "OUT_DIR_2=\"task_3_2_\"$(date +\"%s%6N\")\n",
    "NUM_REDUCERS_2=1\n",
    "hdfs dfs -rm -r -skipTrash ${OUT_DIR_2} > /dev/null\n",
    "\n",
    "yarn jar /opt/cloudera/parcels/CDH/lib/hadoop-mapreduce/hadoop-streaming.jar \\\n",
    "    -D mapreduce.job.output.key.comparator.class=org.apache.hadoop.mapreduce.lib.partition.KeyFieldBasedComparator \\\n",
    "    -D mapreduce.partition.keycomparator.options=\"-k1,1nr\" \\\n",
    "    -D mapred.jab.name=\"NamesCount2\" \\\n",
    "    -D mapreduce.job.reduces=${NUM_REDUCERS_2} \\\n",
    "    -files mapper2.py,reducer2.py \\\n",
    "    -mapper 'python mapper2.py' \\\n",
    "    -reducer 'python reducer2.py' \\\n",
    "    -input ${OUT_DIR_1} \\\n",
    "    -output ${OUT_DIR_2} > /dev/null\n",
    "\n",
    "# Code for obtaining the results\n",
    "hdfs dfs -cat ${OUT_DIR_2}/part-00000 | sed -n \"5p;8q\"\n"
   ]
  },
  {
   "cell_type": "code",
   "execution_count": null,
   "metadata": {},
   "outputs": [],
   "source": []
  }
 ],
 "metadata": {
  "colab": {
   "collapsed_sections": [],
   "default_view": {},
   "name": "702_to_students.ipynb",
   "provenance": [],
   "version": "0.3.2",
   "views": {}
  },
  "kernelspec": {
   "display_name": "Python 2",
   "language": "python",
   "name": "python2"
  },
  "language_info": {
   "codemirror_mode": {
    "name": "ipython",
    "version": 2
   },
   "file_extension": ".py",
   "mimetype": "text/x-python",
   "name": "python",
   "nbconvert_exporter": "python",
   "pygments_lexer": "ipython2",
   "version": "2.7.12"
  }
 },
 "nbformat": 4,
 "nbformat_minor": 1
}
