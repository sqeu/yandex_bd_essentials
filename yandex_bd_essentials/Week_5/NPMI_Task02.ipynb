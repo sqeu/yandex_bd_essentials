{
 "cells": [
  {
   "cell_type": "code",
   "execution_count": 1,
   "metadata": {},
   "outputs": [],
   "source": [
    "from pyspark import SparkConf, SparkContext\n",
    "sc = SparkContext(conf=SparkConf().setAppName(\"MyApp\").setMaster(\"local\"))\n",
    "\n",
    "import re"
   ]
  },
  {
   "cell_type": "code",
   "execution_count": 2,
   "metadata": {},
   "outputs": [],
   "source": [
    "def parse_article(line):\n",
    "    try:\n",
    "        article_id, text = unicode(line.rstrip()).split('\\t', 1)\n",
    "        text = re.sub(\"^\\W+|\\W+$\", \"\", text, flags=re.UNICODE)\n",
    "        words = re.split(\"\\W*\\s+\\W*\", text, flags=re.UNICODE)\n",
    "        result=[]\n",
    "        for word in words:\n",
    "            word_l=word.lower()\n",
    "            if word_l not in stopwords:\n",
    "                result.append(word_l)\n",
    "        return result\n",
    "    except ValueError as e:\n",
    "        return []\n",
    "\n",
    "def bigrams(words):\n",
    "    result=[]\n",
    "    for w1,w2 in zip(words,words[1:]):\n",
    "        result.append((w1+\"_\"+w2,1))\n",
    "    return result\n",
    "\n",
    "#wiki = sc.textFile(\"/data/wiki/en_articles_part/articles-part\", 16)\\\n",
    "#.map(parse_article)\\\n",
    "#.flatMap(bigrams)\\\n",
    "#.reduceByKey(lambda x,y:x+y)\\\n",
    "#.filter(lambda x: x[1]>=500)\n"
   ]
  },
  {
   "cell_type": "code",
   "execution_count": 3,
   "metadata": {},
   "outputs": [],
   "source": [
    "stopwords = sc.textFile(\"/datasets/stop_words_en.txt\", 16).collect()\n",
    "wiki = sc.textFile(\"/data/wiki/en_articles_part/articles-part\", 16)\\\n",
    ".map(parse_article).cache()"
   ]
  },
  {
   "cell_type": "code",
   "execution_count": 25,
   "metadata": {},
   "outputs": [],
   "source": [
    "w_bigrams=wiki\\\n",
    ".flatMap(bigrams)\\\n",
    ".reduceByKey(lambda x,y:x+y)\\\n",
    ".cache()"
   ]
  },
  {
   "cell_type": "code",
   "execution_count": null,
   "metadata": {},
   "outputs": [],
   "source": [
    "total_bigrams=w_bigrams.map(lambda x:x[1]).sum()"
   ]
  },
  {
   "cell_type": "code",
   "execution_count": 7,
   "metadata": {},
   "outputs": [],
   "source": [
    "w_unigrams=wiki\\\n",
    ".flatMap(lambda x: x)\\\n",
    ".map(lambda x: (x,1))\\\n",
    ".reduceByKey(lambda x,y:x+y)\\\n",
    ".sortByKey()\\\n",
    ".cache()\n",
    "#.sortBy(lambda x: x[0])\n",
    "#list_unigrams=w_unigrams.collect()"
   ]
  },
  {
   "cell_type": "code",
   "execution_count": 8,
   "metadata": {},
   "outputs": [],
   "source": [
    "total_unigrams=w_unigrams.map(lambda x:x[1]).sum()"
   ]
  },
  {
   "cell_type": "code",
   "execution_count": 9,
   "metadata": {},
   "outputs": [],
   "source": [
    "broadcastVar = sc.broadcast(w_unigrams.collectAsMap())"
   ]
  },
  {
   "cell_type": "code",
   "execution_count": 29,
   "metadata": {},
   "outputs": [],
   "source": [
    "from math import log\n",
    "def npmi(input_bigram):\n",
    "    bigram, count_ab=input_bigram\n",
    "    a,b=bigram.split('_')\n",
    "    count_a=broadcastVar.value[a]\n",
    "    count_b=broadcastVar.value[b]\n",
    "    \n",
    "    pa=float(count_a)/total_unigrams\n",
    "    pb=float(count_b)/total_unigrams\n",
    "    pab=float(count_ab)/total_bigrams\n",
    "    #PMI(a, b) = ln (P(ab) / (P(a) * P(b))\n",
    "    pmi_ab=log(pab/(pa*pb))\n",
    "    #NPMI(a, b) = PMI(a, b) / -ln P(ab)\n",
    "    res_npmi=pmi_ab/(-1*log(pab))\n",
    "    \n",
    "    return (bigram,res_npmi)\n",
    "\n",
    "result=w_bigrams.filter(lambda x: x[1]>500).map(npmi).sortBy(lambda x: x[1],ascending=False).cache()"
   ]
  },
  {
   "cell_type": "code",
   "execution_count": 31,
   "metadata": {},
   "outputs": [
    {
     "name": "stdout",
     "output_type": "stream",
     "text": [
      "los_angeles\n",
      "external_links\n",
      "united_states\n",
      "prime_minister\n",
      "san_francisco\n",
      "et_al\n",
      "new_york\n",
      "supreme_court\n",
      "19th_century\n",
      "20th_century\n",
      "references_external\n",
      "soviet_union\n",
      "air_force\n",
      "baseball_player\n",
      "university_press\n",
      "roman_catholic\n",
      "united_kingdom\n",
      "references_reading\n",
      "notes_references\n",
      "award_best\n",
      "north_america\n",
      "new_zealand\n",
      "civil_war\n",
      "catholic_church\n",
      "world_war\n",
      "war_ii\n",
      "south_africa\n",
      "took_place\n",
      "roman_empire\n",
      "united_nations\n",
      "american_singer-songwriter\n",
      "high_school\n",
      "american_actor\n",
      "american_actress\n",
      "american_baseball\n",
      "york_city\n",
      "american_football\n",
      "years_later\n",
      "north_american\n"
     ]
    }
   ],
   "source": [
    "for res in result.take(39):\n",
    "    print(res[0])"
   ]
  },
  {
   "cell_type": "code",
   "execution_count": null,
   "metadata": {},
   "outputs": [],
   "source": []
  }
 ],
 "metadata": {
  "kernelspec": {
   "display_name": "Python 2",
   "language": "python",
   "name": "python2"
  },
  "language_info": {
   "codemirror_mode": {
    "name": "ipython",
    "version": 2
   },
   "file_extension": ".py",
   "mimetype": "text/x-python",
   "name": "python",
   "nbconvert_exporter": "python",
   "pygments_lexer": "ipython2",
   "version": "2.7.12"
  }
 },
 "nbformat": 4,
 "nbformat_minor": 2
}
