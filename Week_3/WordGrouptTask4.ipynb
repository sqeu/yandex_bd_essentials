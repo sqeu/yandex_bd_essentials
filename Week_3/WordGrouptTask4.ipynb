{
 "cells": [
  {
   "cell_type": "markdown",
   "metadata": {
    "colab_type": "text",
    "id": "Xsd0oermS80K"
   },
   "source": [
    "# Hadoop Streaming assignment 4: Word group"
   ]
  },
  {
   "cell_type": "markdown",
   "metadata": {
    "colab_type": "text",
    "id": "V_0wfvKjS80L"
   },
   "source": [
    "Make WordCount program for all the names in the dataset. Name is a word with the following properties:\n",
    "\n",
    "The first character is not a digit (other characters can be digits).\n",
    "The first character is uppercase, all the other characters that are letters are lowercase.\n",
    "There are less than 0.5% occurrences of this word, when this word regardless to its case appears in the dataset and the condition (2) is not met.\n",
    "Order by quantity, most popular first, output format:\n",
    "\n",
    "name <tab> count\n",
    "\n",
    "The result is the 5th line in the output\n",
    "\n",
    "The result on the sample dataset:\n",
    "french 5742"
   ]
  },
  {
   "cell_type": "markdown",
   "metadata": {
    "colab_type": "text",
    "id": "EpO7whLNS80M"
   },
   "source": [
    "## Step 1. Create the mapper.\n",
    "\n",
    "<b>Hint:</b> Create the mapper, which calculates Total word and Stop word amounts. You may redirect this information to sys.stderr. This will make it possible to parse these data on the next steps.\n",
    "\n",
    "Example of the redirections:\n",
    "\n",
    "`print >> sys.stderr, \"reporter:counter:Wiki stats,Total words,%d\" % count`\n",
    "\n",
    "Remember about the Distributed cache. If we add option `-files mapper.py,reducer.py,/datasets/stop_words_en.txt`, then `mapper.py, reducer.py` and `stop_words_en.txt` file will be in the same directory on the datanodes. Hence, it is necessary to use a relative path `stop_words_en.txt` from the mapper to access this txt file."
   ]
  },
  {
   "cell_type": "code",
   "execution_count": 18,
   "metadata": {
    "colab": {
     "autoexec": {
      "startup": false,
      "wait_interval": 0
     }
    },
    "colab_type": "code",
    "id": "KU56zkC0S80M"
   },
   "outputs": [
    {
     "name": "stdout",
     "output_type": "stream",
     "text": [
      "Overwriting mapper1.py\n"
     ]
    }
   ],
   "source": [
    "%%writefile mapper1.py\n",
    "import sys\n",
    "import re\n",
    "\n",
    "path = 'stop_words_en.txt'\n",
    "\n",
    "# Your code for reading stop words here\n",
    "with open(path, \"r\") as f:\n",
    "    stop_words = f.read().splitlines()\n",
    "                    \n",
    "for line in sys.stdin:\n",
    "    try:\n",
    "        article_id, text = line.strip().split('\\t', 1)\n",
    "    except Exception as e:\n",
    "        continue\n",
    "\n",
    "    words = re.split('\\W*\\s+\\W*', text, flags=re.UNICODE)\n",
    "\n",
    "    for word in words:\n",
    "        if word.lower() not in stop_words and word.isalpha():\n",
    "            print(\"{}\\t{}\".format(word.lower(), 1))\n"
   ]
  },
  {
   "cell_type": "markdown",
   "metadata": {
    "colab_type": "text",
    "id": "-3EM-tBES80O"
   },
   "source": [
    "## Step 2. Create the reducer.\n",
    "\n",
    "Create the reducer, which will accumulate the information after the mapper step. You may implement the combiner if you want. It can be useful from optimizing and speed up your computations (see the lectures from the Week 2 for more details)."
   ]
  },
  {
   "cell_type": "code",
   "execution_count": 8,
   "metadata": {
    "colab": {
     "autoexec": {
      "startup": false,
      "wait_interval": 0
     }
    },
    "colab_type": "code",
    "id": "yslvpwpfS80P"
   },
   "outputs": [
    {
     "name": "stdout",
     "output_type": "stream",
     "text": [
      "Overwriting reducer1.py\n"
     ]
    }
   ],
   "source": [
    "%%writefile reducer1.py\n",
    "\n",
    "import sys\n",
    "\n",
    "current_word = None\n",
    "current_count = 0\n",
    "word_group = None\n",
    "\n",
    "for line in sys.stdin:\n",
    "    try:\n",
    "        word, count= line.strip().split('\\t', 1)\n",
    "        count = int(count)\n",
    "        if current_word != word:\n",
    "            if current_word:\n",
    "                word_group = \"\".join(sorted(current_word))\n",
    "                print(\"{}\\t{}\\t{}\".format(current_word,word_group,current_count))\n",
    "            current_count = 0\n",
    "            current_word = word\n",
    "            \n",
    "        current_count  += count\n",
    "        \n",
    "    except Exception as e:\n",
    "        continue\n",
    "    \n",
    "if current_word:\n",
    "    print(\"{}\\t{}\\t{}\".format(current_word,word_group,current_count))"
   ]
  },
  {
   "cell_type": "markdown",
   "metadata": {
    "colab_type": "text",
    "id": "MZQKrDecS80Q"
   },
   "source": [
    "## Step 3. Create second MapReduce.\n"
   ]
  },
  {
   "cell_type": "code",
   "execution_count": 11,
   "metadata": {
    "colab": {
     "autoexec": {
      "startup": false,
      "wait_interval": 0
     }
    },
    "colab_type": "code",
    "id": "XptufhbMS80R"
   },
   "outputs": [
    {
     "name": "stdout",
     "output_type": "stream",
     "text": [
      "Overwriting mapper2.py\n"
     ]
    }
   ],
   "source": [
    "%%writefile mapper2.py\n",
    "\n",
    "import sys\n",
    "\n",
    "for line in sys.stdin:\n",
    "    try:\n",
    "        word, word_group,count = line.strip().split('\\t', 2)\n",
    "        count = int(count)\n",
    "        print(\"{}\\t{}\\t{}\".format(word_group,word,count))\n",
    "        \n",
    "    except Exception as e:\n",
    "        continue\n"
   ]
  },
  {
   "cell_type": "code",
   "execution_count": 22,
   "metadata": {},
   "outputs": [
    {
     "name": "stdout",
     "output_type": "stream",
     "text": [
      "Overwriting reducer2.py\n"
     ]
    }
   ],
   "source": [
    "%%writefile reducer2.py\n",
    "\n",
    "import sys\n",
    "\n",
    "current_count = 0\n",
    "word_group = None\n",
    "words_in_group = set()\n",
    "current_group = None\n",
    "for line in sys.stdin:\n",
    "    try:\n",
    "        word_group,word,count= line.strip().split('\\t', 2)\n",
    "        count = int(count)\n",
    "        if current_group != word_group:\n",
    "            len_word_group = len(words_in_group)\n",
    "            if current_group and len_word_group>1 :\n",
    "                print(\"{}\\t{} {}\\t{}\".format(current_count,current_group,len_word_group,\",\".join(sorted(words_in_group))))\n",
    "            current_count = 0\n",
    "            current_group = word_group\n",
    "            words_in_group = set()\n",
    "        \n",
    "        words_in_group.add(word)\n",
    "        current_count += count\n",
    "        \n",
    "    except Exception as e:\n",
    "        continue\n",
    "    \n",
    "if current_group:\n",
    "    print(\"{}\\t{} {}\\t{}\".format(current_count,word_group,len(words_in_group),\",\".join(sorted(words_in_group))))"
   ]
  },
  {
   "cell_type": "markdown",
   "metadata": {
    "colab_type": "text",
    "id": "O_7XrxbKS80S"
   },
   "source": [
    "## Step 4. Bash commands\n",
    "\n"
   ]
  },
  {
   "cell_type": "code",
   "execution_count": 15,
   "metadata": {
    "colab": {
     "autoexec": {
      "startup": false,
      "wait_interval": 0
     }
    },
    "colab_type": "code",
    "id": "bG3omEqzS80S",
    "scrolled": false
   },
   "outputs": [
    {
     "name": "stderr",
     "output_type": "stream",
     "text": [
      "rm: `task_4_1_1566082094172337*': No such file or directory\n",
      "19/08/17 22:48:20 INFO client.RMProxy: Connecting to ResourceManager at /0.0.0.0:8032\n",
      "19/08/17 22:48:21 INFO client.RMProxy: Connecting to ResourceManager at /0.0.0.0:8032\n",
      "19/08/17 22:48:24 WARN hdfs.DataStreamer: Caught exception\n",
      "java.lang.InterruptedException\n",
      "\tat java.lang.Object.wait(Native Method)\n",
      "\tat java.lang.Thread.join(Thread.java:1252)\n",
      "\tat java.lang.Thread.join(Thread.java:1326)\n",
      "\tat org.apache.hadoop.hdfs.DataStreamer.closeResponder(DataStreamer.java:927)\n",
      "\tat org.apache.hadoop.hdfs.DataStreamer.endBlock(DataStreamer.java:578)\n",
      "\tat org.apache.hadoop.hdfs.DataStreamer.run(DataStreamer.java:755)\n",
      "19/08/17 22:48:24 INFO mapred.FileInputFormat: Total input files to process : 1\n",
      "19/08/17 22:48:24 WARN hdfs.DataStreamer: Caught exception\n",
      "java.lang.InterruptedException\n",
      "\tat java.lang.Object.wait(Native Method)\n",
      "\tat java.lang.Thread.join(Thread.java:1252)\n",
      "\tat java.lang.Thread.join(Thread.java:1326)\n",
      "\tat org.apache.hadoop.hdfs.DataStreamer.closeResponder(DataStreamer.java:927)\n",
      "\tat org.apache.hadoop.hdfs.DataStreamer.endBlock(DataStreamer.java:578)\n",
      "\tat org.apache.hadoop.hdfs.DataStreamer.run(DataStreamer.java:755)\n",
      "19/08/17 22:48:24 WARN hdfs.DataStreamer: Caught exception\n",
      "java.lang.InterruptedException\n",
      "\tat java.lang.Object.wait(Native Method)\n",
      "\tat java.lang.Thread.join(Thread.java:1252)\n",
      "\tat java.lang.Thread.join(Thread.java:1326)\n",
      "\tat org.apache.hadoop.hdfs.DataStreamer.closeResponder(DataStreamer.java:927)\n",
      "\tat org.apache.hadoop.hdfs.DataStreamer.endBlock(DataStreamer.java:578)\n",
      "\tat org.apache.hadoop.hdfs.DataStreamer.run(DataStreamer.java:755)\n",
      "19/08/17 22:48:24 INFO mapreduce.JobSubmitter: number of splits:2\n",
      "19/08/17 22:48:25 INFO mapreduce.JobSubmitter: Submitting tokens for job: job_1566058984755_0009\n",
      "19/08/17 22:48:26 INFO impl.YarnClientImpl: Submitted application application_1566058984755_0009\n",
      "19/08/17 22:48:26 INFO mapreduce.Job: The url to track the job: http://b4325ed728cd:8088/proxy/application_1566058984755_0009/\n",
      "19/08/17 22:48:26 INFO mapreduce.Job: Running job: job_1566058984755_0009\n",
      "19/08/17 22:48:40 INFO mapreduce.Job: Job job_1566058984755_0009 running in uber mode : false\n",
      "19/08/17 22:48:40 INFO mapreduce.Job:  map 0% reduce 0%\n",
      "19/08/17 22:49:24 INFO mapreduce.Job:  map 9% reduce 0%\n",
      "19/08/17 22:49:30 INFO mapreduce.Job:  map 26% reduce 0%\n",
      "19/08/17 22:49:36 INFO mapreduce.Job:  map 33% reduce 0%\n",
      "19/08/17 22:49:42 INFO mapreduce.Job:  map 37% reduce 0%\n",
      "19/08/17 22:49:43 INFO mapreduce.Job:  map 41% reduce 0%\n",
      "19/08/17 22:49:48 INFO mapreduce.Job:  map 45% reduce 0%\n",
      "19/08/17 22:49:49 INFO mapreduce.Job:  map 48% reduce 0%\n",
      "19/08/17 22:49:54 INFO mapreduce.Job:  map 53% reduce 0%\n",
      "19/08/17 22:50:00 INFO mapreduce.Job:  map 56% reduce 0%\n",
      "19/08/17 22:50:04 INFO mapreduce.Job:  map 73% reduce 0%\n",
      "19/08/17 22:50:06 INFO mapreduce.Job:  map 79% reduce 0%\n",
      "19/08/17 22:50:12 INFO mapreduce.Job:  map 83% reduce 0%\n",
      "19/08/17 22:51:21 INFO mapreduce.Job:  map 100% reduce 0%\n",
      "19/08/17 22:51:31 INFO mapreduce.Job:  map 100% reduce 17%\n",
      "19/08/17 22:51:32 INFO mapreduce.Job:  map 100% reduce 69%\n",
      "19/08/17 22:51:37 INFO mapreduce.Job:  map 100% reduce 72%\n",
      "19/08/17 22:51:38 INFO mapreduce.Job:  map 100% reduce 81%\n",
      "19/08/17 22:51:43 INFO mapreduce.Job:  map 100% reduce 86%\n",
      "19/08/17 22:51:44 INFO mapreduce.Job:  map 100% reduce 99%\n",
      "19/08/17 22:51:45 INFO mapreduce.Job:  map 100% reduce 100%\n",
      "19/08/17 22:52:14 INFO mapreduce.Job: Job job_1566058984755_0009 completed successfully\n",
      "19/08/17 22:52:15 INFO mapreduce.Job: Counters: 50\n",
      "\tFile System Counters\n",
      "\t\tFILE: Number of bytes read=72867260\n",
      "\t\tFILE: Number of bytes written=146574240\n",
      "\t\tFILE: Number of read operations=0\n",
      "\t\tFILE: Number of large read operations=0\n",
      "\t\tFILE: Number of write operations=0\n",
      "\t\tHDFS: Number of bytes read=76874501\n",
      "\t\tHDFS: Number of bytes written=4683493\n",
      "\t\tHDFS: Number of read operations=18\n",
      "\t\tHDFS: Number of large read operations=0\n",
      "\t\tHDFS: Number of write operations=8\n",
      "\tJob Counters \n",
      "\t\tKilled map tasks=1\n",
      "\t\tLaunched map tasks=3\n",
      "\t\tLaunched reduce tasks=4\n",
      "\t\tData-local map tasks=3\n",
      "\t\tTotal time spent by all maps in occupied slots (ms)=310957\n",
      "\t\tTotal time spent by all reduces in occupied slots (ms)=394198\n",
      "\t\tTotal time spent by all map tasks (ms)=310957\n",
      "\t\tTotal time spent by all reduce tasks (ms)=394198\n",
      "\t\tTotal vcore-milliseconds taken by all map tasks=310957\n",
      "\t\tTotal vcore-milliseconds taken by all reduce tasks=394198\n",
      "\t\tTotal megabyte-milliseconds taken by all map tasks=318419968\n",
      "\t\tTotal megabyte-milliseconds taken by all reduce tasks=403658752\n",
      "\tMap-Reduce Framework\n",
      "\t\tMap input records=4100\n",
      "\t\tMap output records=6176585\n",
      "\t\tMap output bytes=60514066\n",
      "\t\tMap output materialized bytes=72867284\n",
      "\t\tInput split bytes=228\n",
      "\t\tCombine input records=0\n",
      "\t\tCombine output records=0\n",
      "\t\tReduce input groups=226348\n",
      "\t\tReduce shuffle bytes=72867284\n",
      "\t\tReduce input records=6176585\n",
      "\t\tReduce output records=226348\n",
      "\t\tSpilled Records=12353170\n",
      "\t\tShuffled Maps =8\n",
      "\t\tFailed Shuffles=0\n",
      "\t\tMerged Map outputs=8\n",
      "\t\tGC time elapsed (ms)=9210\n",
      "\t\tCPU time spent (ms)=83510\n",
      "\t\tPhysical memory (bytes) snapshot=752766976\n",
      "\t\tVirtual memory (bytes) snapshot=11586822144\n",
      "\t\tTotal committed heap usage (bytes)=405348352\n",
      "\tShuffle Errors\n",
      "\t\tBAD_ID=0\n",
      "\t\tCONNECTION=0\n",
      "\t\tIO_ERROR=0\n",
      "\t\tWRONG_LENGTH=0\n",
      "\t\tWRONG_MAP=0\n",
      "\t\tWRONG_REDUCE=0\n",
      "\tFile Input Format Counters \n",
      "\t\tBytes Read=76874273\n",
      "\tFile Output Format Counters \n",
      "\t\tBytes Written=4683493\n",
      "19/08/17 22:52:15 INFO streaming.StreamJob: Output directory: task_4_1_1566082094172337\n"
     ]
    }
   ],
   "source": [
    "%%bash\n",
    "\n",
    "OUT_DIR_1=\"task_4_1_\"$(date +\"%s%6N\")\n",
    "NUM_REDUCERS=4\n",
    "\n",
    "hdfs dfs -rm -r -skipTrash ${OUT_DIR_1}* > /dev/null\n",
    "\n",
    "yarn jar /opt/cloudera/parcels/CDH/lib/hadoop-mapreduce/hadoop-streaming.jar \\\n",
    "    -D mapred.jab.name=\"WordGroup\" \\\n",
    "    -D mapreduce.job.reduces=${NUM_REDUCERS} \\\n",
    "    -files mapper1.py,reducer1.py,/datasets/stop_words_en.txt \\\n",
    "    -mapper \"python mapper1.py\" \\\n",
    "    -reducer \"python reducer1.py\" \\\n",
    "    -input /data/wiki/en_articles_part \\\n",
    "    -output ${OUT_DIR_1} > /dev/null\n",
    "\n",
    "OUT_DIR_2=\"task_4_2_\"$(date +\"%s%6N\")\n",
    "NUM_REDUCERS_2=1\n",
    "hdfs dfs -rm -r -skipTrash ${OUT_DIR_2} > /dev/null\n",
    "\n",
    "yarn jar /opt/cloudera/parcels/CDH/lib/hadoop-mapreduce/hadoop-streaming.jar \\\n",
    "    -D mapred.jab.name=\"WordGroup2\" \\\n",
    "    -D mapreduce.job.reduces=${NUM_REDUCERS_2} \\\n",
    "    -files mapper2.py,reducer2.py \\\n",
    "    -mapper 'python mapper2.py' \\\n",
    "    -reducer 'python reducer2.py' \\\n",
    "    -input ${OUT_DIR_1} \\\n",
    "    -output ${OUT_DIR_2} > /dev/null\n",
    "\n",
    "# Code for obtaining the results\n",
    "hdfs dfs -cat ${OUT_DIR_2}/part-00000 | grep \"english,\""
   ]
  }
 ],
 "metadata": {
  "colab": {
   "collapsed_sections": [],
   "default_view": {},
   "name": "702_to_students.ipynb",
   "provenance": [],
   "version": "0.3.2",
   "views": {}
  },
  "kernelspec": {
   "display_name": "Python 2",
   "language": "python",
   "name": "python2"
  },
  "language_info": {
   "codemirror_mode": {
    "name": "ipython",
    "version": 2
   },
   "file_extension": ".py",
   "mimetype": "text/x-python",
   "name": "python",
   "nbconvert_exporter": "python",
   "pygments_lexer": "ipython2",
   "version": "2.7.12"
  }
 },
 "nbformat": 4,
 "nbformat_minor": 1
}
