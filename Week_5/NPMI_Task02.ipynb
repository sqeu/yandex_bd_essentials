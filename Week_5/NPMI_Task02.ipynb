{
 "cells": [
  {
   "cell_type": "code",
   "execution_count": 7,
   "metadata": {},
   "outputs": [
    {
     "ename": "ValueError",
     "evalue": "Cannot run multiple SparkContexts at once; existing SparkContext(app=MyApp, master=local) created by __init__ at <ipython-input-1-a0aae5f98c4b>:2 ",
     "output_type": "error",
     "traceback": [
      "\u001b[0;31m\u001b[0m",
      "\u001b[0;31mValueError\u001b[0mTraceback (most recent call last)",
      "\u001b[0;32m<ipython-input-7-364eab5d39f0>\u001b[0m in \u001b[0;36m<module>\u001b[0;34m()\u001b[0m\n\u001b[1;32m      1\u001b[0m \u001b[0;32mfrom\u001b[0m \u001b[0mpyspark\u001b[0m \u001b[0;32mimport\u001b[0m \u001b[0mSparkConf\u001b[0m\u001b[0;34m,\u001b[0m \u001b[0mSparkContext\u001b[0m\u001b[0;34m\u001b[0m\u001b[0m\n\u001b[0;32m----> 2\u001b[0;31m \u001b[0msc\u001b[0m \u001b[0;34m=\u001b[0m \u001b[0mSparkContext\u001b[0m\u001b[0;34m(\u001b[0m\u001b[0mconf\u001b[0m\u001b[0;34m=\u001b[0m\u001b[0mSparkConf\u001b[0m\u001b[0;34m(\u001b[0m\u001b[0;34m)\u001b[0m\u001b[0;34m.\u001b[0m\u001b[0msetAppName\u001b[0m\u001b[0;34m(\u001b[0m\u001b[0;34m\"MyApp\"\u001b[0m\u001b[0;34m)\u001b[0m\u001b[0;34m.\u001b[0m\u001b[0msetMaster\u001b[0m\u001b[0;34m(\u001b[0m\u001b[0;34m\"local\"\u001b[0m\u001b[0;34m)\u001b[0m\u001b[0;34m.\u001b[0m\u001b[0mset\u001b[0m\u001b[0;34m(\u001b[0m\u001b[0;34m\"spark.ui.port\"\u001b[0m\u001b[0;34m,\u001b[0m \u001b[0;34m\"8081\"\u001b[0m\u001b[0;34m)\u001b[0m\u001b[0;34m)\u001b[0m\u001b[0;34m\u001b[0m\u001b[0m\n\u001b[0m\u001b[1;32m      3\u001b[0m \u001b[0;34m\u001b[0m\u001b[0m\n\u001b[1;32m      4\u001b[0m \u001b[0;32mimport\u001b[0m \u001b[0mre\u001b[0m\u001b[0;34m\u001b[0m\u001b[0m\n",
      "\u001b[0;32m/usr/local/spark/python/pyspark/context.py\u001b[0m in \u001b[0;36m__init__\u001b[0;34m(self, master, appName, sparkHome, pyFiles, environment, batchSize, serializer, conf, gateway, jsc, profiler_cls)\u001b[0m\n\u001b[1;32m    113\u001b[0m         \"\"\"\n\u001b[1;32m    114\u001b[0m         \u001b[0mself\u001b[0m\u001b[0;34m.\u001b[0m\u001b[0m_callsite\u001b[0m \u001b[0;34m=\u001b[0m \u001b[0mfirst_spark_call\u001b[0m\u001b[0;34m(\u001b[0m\u001b[0;34m)\u001b[0m \u001b[0;32mor\u001b[0m \u001b[0mCallSite\u001b[0m\u001b[0;34m(\u001b[0m\u001b[0mNone\u001b[0m\u001b[0;34m,\u001b[0m \u001b[0mNone\u001b[0m\u001b[0;34m,\u001b[0m \u001b[0mNone\u001b[0m\u001b[0;34m)\u001b[0m\u001b[0;34m\u001b[0m\u001b[0m\n\u001b[0;32m--> 115\u001b[0;31m         \u001b[0mSparkContext\u001b[0m\u001b[0;34m.\u001b[0m\u001b[0m_ensure_initialized\u001b[0m\u001b[0;34m(\u001b[0m\u001b[0mself\u001b[0m\u001b[0;34m,\u001b[0m \u001b[0mgateway\u001b[0m\u001b[0;34m=\u001b[0m\u001b[0mgateway\u001b[0m\u001b[0;34m,\u001b[0m \u001b[0mconf\u001b[0m\u001b[0;34m=\u001b[0m\u001b[0mconf\u001b[0m\u001b[0;34m)\u001b[0m\u001b[0;34m\u001b[0m\u001b[0m\n\u001b[0m\u001b[1;32m    116\u001b[0m         \u001b[0;32mtry\u001b[0m\u001b[0;34m:\u001b[0m\u001b[0;34m\u001b[0m\u001b[0m\n\u001b[1;32m    117\u001b[0m             self._do_init(master, appName, sparkHome, pyFiles, environment, batchSize, serializer,\n",
      "\u001b[0;32m/usr/local/spark/python/pyspark/context.py\u001b[0m in \u001b[0;36m_ensure_initialized\u001b[0;34m(cls, instance, gateway, conf)\u001b[0m\n\u001b[1;32m    273\u001b[0m                         \u001b[0;34m\" created by %s at %s:%s \"\u001b[0m\u001b[0;34m\u001b[0m\u001b[0m\n\u001b[1;32m    274\u001b[0m                         % (currentAppName, currentMaster,\n\u001b[0;32m--> 275\u001b[0;31m                             callsite.function, callsite.file, callsite.linenum))\n\u001b[0m\u001b[1;32m    276\u001b[0m                 \u001b[0;32melse\u001b[0m\u001b[0;34m:\u001b[0m\u001b[0;34m\u001b[0m\u001b[0m\n\u001b[1;32m    277\u001b[0m                     \u001b[0mSparkContext\u001b[0m\u001b[0;34m.\u001b[0m\u001b[0m_active_spark_context\u001b[0m \u001b[0;34m=\u001b[0m \u001b[0minstance\u001b[0m\u001b[0;34m\u001b[0m\u001b[0m\n",
      "\u001b[0;31mValueError\u001b[0m: Cannot run multiple SparkContexts at once; existing SparkContext(app=MyApp, master=local) created by __init__ at <ipython-input-1-a0aae5f98c4b>:2 "
     ]
    }
   ],
   "source": [
    "from pyspark import SparkConf, SparkContext\n",
    "sc = SparkContext(conf=SparkConf().setAppName(\"MyApp\").setMaster(\"local\"))\n",
    "\n",
    "import re"
   ]
  },
  {
   "cell_type": "code",
   "execution_count": 2,
   "metadata": {},
   "outputs": [],
   "source": [
    "def parse_article(line):\n",
    "    try:\n",
    "        article_id, text = unicode(line.rstrip()).split('\\t', 1)\n",
    "        text = re.sub(\"^\\W+|\\W+$\", \"\", text, flags=re.UNICODE)\n",
    "        words = re.split(\"\\W*\\s+\\W*\", text, flags=re.UNICODE)\n",
    "        result=[]\n",
    "        for word in words:\n",
    "            word_l=word.lower()\n",
    "            if word_l not in stopwords:\n",
    "                result.append(word_l)\n",
    "        return result\n",
    "    except ValueError as e:\n",
    "        return []\n",
    "\n",
    "def bigrams(words):\n",
    "    result=[]\n",
    "    for w1,w2 in zip(words,words[1:]):\n",
    "        result.append((w1+\"_\"+w2,1))\n",
    "    return result\n",
    "\n",
    "#wiki = sc.textFile(\"/data/wiki/en_articles_part/articles-part\", 16)\\\n",
    "#.map(parse_article)\\\n",
    "#.flatMap(bigrams)\\\n",
    "#.reduceByKey(lambda x,y:x+y)\\\n",
    "#.filter(lambda x: x[1]>=500)\n"
   ]
  },
  {
   "cell_type": "code",
   "execution_count": 4,
   "metadata": {},
   "outputs": [],
   "source": [
    "stopwords = sc.textFile(\"/datasets/stop_words_en.txt\", 16).collect()\n",
    "wiki = sc.textFile(\"/data/wiki/en_articles_part/articles-part\", 16)\\\n",
    ".map(parse_article).cache()"
   ]
  },
  {
   "cell_type": "code",
   "execution_count": 5,
   "metadata": {},
   "outputs": [],
   "source": [
    "w_bigrams=wiki\\\n",
    ".flatMap(bigrams)\\\n",
    ".reduceByKey(lambda x,y:x+y)\\\n",
    ".filter(lambda x: x[1]>=500).cache()"
   ]
  },
  {
   "cell_type": "code",
   "execution_count": null,
   "metadata": {},
   "outputs": [],
   "source": [
    "w_bigrams.take(2)"
   ]
  },
  {
   "cell_type": "code",
   "execution_count": null,
   "metadata": {},
   "outputs": [],
   "source": [
    "total_bigrams=w_bigrams.reduce(lambda x:x[1]).sum()"
   ]
  },
  {
   "cell_type": "code",
   "execution_count": 25,
   "metadata": {},
   "outputs": [],
   "source": [
    "w_unigrams=wiki\\\n",
    ".flatMap(lambda x: x)\\\n",
    ".map(lambda x: (x,1))\\\n",
    ".reduceByKey(lambda x,y:x+y)\\\n",
    ".sortByKey()\\\n",
    ".cache()\n",
    "#.sortBy(lambda x: x[0])\n",
    "#list_unigrams=w_unigrams.collect()"
   ]
  },
  {
   "cell_type": "code",
   "execution_count": 27,
   "metadata": {},
   "outputs": [],
   "source": [
    "total_unigrams=w_unigrams.reduce(lambda x:x[1]).sum()"
   ]
  },
  {
   "cell_type": "code",
   "execution_count": 35,
   "metadata": {},
   "outputs": [],
   "source": [
    "broadcastVar = sc.broadcast(w_unigrams.collectAsMap())"
   ]
  },
  {
   "cell_type": "code",
   "execution_count": 45,
   "metadata": {},
   "outputs": [],
   "source": [
    "from math import log\n",
    "def npmi(input_bigram):\n",
    "    bigram, count_ab=input_bigram\n",
    "    a,b=bigram.split('_')\n",
    "    count_a=broadcastVar.value.get(a)\n",
    "    count_b=broadcastVar.value.get(b)\n",
    "    \n",
    "    pa=float(count_a)/total_unigrams\n",
    "    pb=float(count_b)/total_unigrams\n",
    "    pab=float(count_ab)/total_bigrams\n",
    "    #PMI(a, b) = ln (P(ab) / (P(a) * P(b))\n",
    "    pmi_ab=log(pab/(pa*pb))\n",
    "    #NPMI(a, b) = PMI(a, b) / -ln P(ab)\n",
    "    res_npmi=pmi_ab/-log(pab)\n",
    "    \n",
    "    return (bigram,res_npmi)\n",
    "\n",
    "result=w_bigrams.map(npmi).sortBy(lambda x: x[1],ascending=False).cache()"
   ]
  },
  {
   "cell_type": "code",
   "execution_count": 48,
   "metadata": {},
   "outputs": [
    {
     "name": "stdout",
     "output_type": "stream",
     "text": [
      "united_states\n",
      "new_york\n",
      "world_war\n",
      "external_links\n",
      "war_ii\n",
      "american_actor\n",
      "university_press\n",
      "united_kingdom\n",
      "references_external\n",
      "years_later\n",
      "civil_war\n",
      "air_force\n",
      "19th_century\n",
      "american_actress\n",
      "20th_century\n",
      "north_american\n",
      "north_america\n",
      "york_city\n",
      "new_zealand\n",
      "american_baseball\n",
      "united_nations\n",
      "soviet_union\n",
      "high_school\n",
      "american_football\n",
      "prime_minister\n",
      "baseball_player\n",
      "american_singer-songwriter\n",
      "south_africa\n",
      "notes_references\n",
      "catholic_church\n",
      "roman_catholic\n",
      "took_place\n",
      "award_best\n",
      "roman_empire\n",
      "references_reading\n",
      "supreme_court\n",
      "los_angeles\n",
      "et_al\n",
      "san_francisco\n"
     ]
    }
   ],
   "source": [
    "for res in result.take(39):\n",
    "    print(res[0])"
   ]
  }
 ],
 "metadata": {
  "kernelspec": {
   "display_name": "Python 2",
   "language": "python",
   "name": "python2"
  },
  "language_info": {
   "codemirror_mode": {
    "name": "ipython",
    "version": 2
   },
   "file_extension": ".py",
   "mimetype": "text/x-python",
   "name": "python",
   "nbconvert_exporter": "python",
   "pygments_lexer": "ipython2",
   "version": "2.7.12"
  }
 },
 "nbformat": 4,
 "nbformat_minor": 2
}
