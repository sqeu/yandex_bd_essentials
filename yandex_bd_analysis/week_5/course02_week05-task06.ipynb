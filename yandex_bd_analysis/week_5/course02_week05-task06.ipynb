{
 "cells": [
  {
   "cell_type": "code",
   "execution_count": 1,
   "metadata": {
    "scrolled": false
   },
   "outputs": [
    {
     "name": "stdout",
     "output_type": "stream",
     "text": [
      "Welcome to\n",
      "      ____              __\n",
      "     / __/__  ___ _____/ /__\n",
      "    _\\ \\/ _ \\/ _ `/ __/  '_/\n",
      "   /__ / .__/\\_,_/_/ /_/\\_\\   version 2.1.1\n",
      "      /_/\n",
      "\n",
      "Using Python version 2.7.12 (default, Nov 19 2016 06:48:10)\n",
      "SparkSession available as 'spark'.\n"
     ]
    }
   ],
   "source": [
    "import os\n",
    "execfile(os.path.join(os.environ[\"SPARK_HOME\"], 'python/pyspark/shell.py'))"
   ]
  },
  {
   "cell_type": "code",
   "execution_count": 89,
   "metadata": {},
   "outputs": [],
   "source": [
    "from pyspark.sql import SparkSession\n",
    "sparkSession = SparkSession.builder.enableHiveSupport().master(\"local [2]\").getOrCreate()"
   ]
  },
  {
   "cell_type": "code",
   "execution_count": 90,
   "metadata": {},
   "outputs": [],
   "source": [
    "data = sparkSession.read.parquet(\"/data/sample264\")\n",
    "meta = sparkSession.read.parquet(\"/data/meta\")"
   ]
  },
  {
   "cell_type": "markdown",
   "metadata": {},
   "source": [
    "## Normalization could be done by next function"
   ]
  },
  {
   "cell_type": "code",
   "execution_count": 91,
   "metadata": {},
   "outputs": [],
   "source": [
    "def norm(df, key1, key2, field, n): \n",
    "    \n",
    "    window = Window.partitionBy(key1).orderBy(col(field).desc())\n",
    "        \n",
    "    topsDF = df.withColumn(\"row_number\", row_number().over(window)) \\\n",
    "        .filter(col(\"row_number\") <= n) \\\n",
    "        .drop(col(\"row_number\")) \n",
    "        \n",
    "    tmpDF = topsDF.groupBy(col(key1)).agg(col(key1), sum(col(field)).alias(\"sum_\" + field))\n",
    "   \n",
    "    normalizedDF = topsDF.join(tmpDF, key1, \"inner\") \\\n",
    "        .withColumn(\"norm_\" + field, col(field) / col(\"sum_\" + field)) \\\n",
    "        .cache()\n",
    "\n",
    "    return normalizedDF"
   ]
  },
  {
   "cell_type": "code",
   "execution_count": 109,
   "metadata": {},
   "outputs": [],
   "source": [
    "from pyspark.sql import Window\n",
    "from pyspark.sql.functions import row_number, sum,desc,when,col, rank,lit,round,rank\n",
    "\n",
    "user = 776748\n",
    "\n",
    "alpha = 0.15\n",
    "beta_user_artist = 0.5\n",
    "beta_user_track = 0.5\n",
    "beta_track_track = 1\n",
    "beta_artist_track = 1"
   ]
  },
  {
   "cell_type": "markdown",
   "metadata": {},
   "source": [
    "## Task 1: track track"
   ]
  },
  {
   "cell_type": "code",
   "execution_count": 110,
   "metadata": {},
   "outputs": [],
   "source": [
    "data_b = data.withColumnRenamed(\"trackId\",\"b_trackId\")\n",
    "\n",
    "train_data=data.alias(\"a\").join(data_b.alias(\"b\"),\"userId\")\\\n",
    ".where(\"a.trackId!=b.b_trackId\")\\\n",
    ".withColumn(\"op_weight\",col(\"b.timestamp\")-col(\"a.timestamp\"))\\\n",
    ".where(\"abs(b.timestamp - a.timestamp) <= 420\")\n",
    "\n",
    "track = train_data.groupBy(col(\"trackId\"),col(\"b_trackId\")).count()\n",
    "        \n",
    "trackNorm = norm(track, \"trackId\", \"b_trackId\", \"count\", 1000) \\\n",
    "        .withColumn(\"source\", col(\"trackId\")) \\\n",
    "        .withColumn(\"target\", col(\"b_trackId\")) \\\n",
    "        .withColumn(\"next_val\", col(\"norm_count\") * beta_track_track) \\\n",
    "        .select(col(\"source\"), col(\"target\"), col(\"next_val\"))     \n",
    "\n",
    "track_track = trackNorm\\\n",
    "    .select(col(\"source\"), col(\"target\"),col(\"next_val\"))\\\n",
    "    .cache()"
   ]
  },
  {
   "cell_type": "markdown",
   "metadata": {},
   "source": [
    "## Task 2: user track"
   ]
  },
  {
   "cell_type": "code",
   "execution_count": 111,
   "metadata": {},
   "outputs": [],
   "source": [
    "users = data.groupBy(\"userId\",\"trackId\").count()\n",
    "user_track = norm(users, \"userId\", \"trackId\", \"count\", 1000)\\\n",
    "            .withColumn(\"next_val\", col(\"norm_count\") * beta_user_track)\\\n",
    "            .select(col(\"userId\"), col(\"trackId\"),col(\"next_val\"))\\\n",
    "            .withColumnRenamed(\"userId\",\"source\")\\\n",
    "            .withColumnRenamed(\"trackId\",\"target\")\\\n",
    "            .cache()"
   ]
  },
  {
   "cell_type": "markdown",
   "metadata": {},
   "source": [
    "## Task 3: user artist"
   ]
  },
  {
   "cell_type": "code",
   "execution_count": 112,
   "metadata": {},
   "outputs": [],
   "source": [
    "users = data.groupBy(\"userId\",\"artistId\").count()\n",
    "user_artist = norm(users, \"userId\", \"artistId\", \"count\", 1000)\\\n",
    "            .withColumn(\"next_val\", col(\"norm_count\") * beta_user_artist)\\\n",
    "            .select(col(\"userId\"), col(\"artistId\"),col(\"next_val\"))\\\n",
    "            .withColumnRenamed(\"userId\",\"source\")\\\n",
    "            .withColumnRenamed(\"artistId\",\"target\")\\\n",
    "            .cache()"
   ]
  },
  {
   "cell_type": "markdown",
   "metadata": {},
   "source": [
    "## Task 4: artist track"
   ]
  },
  {
   "cell_type": "code",
   "execution_count": 113,
   "metadata": {},
   "outputs": [],
   "source": [
    "users = data.groupBy(\"artistId\",\"trackId\").count()\n",
    "artist_track = norm(users, \"artistId\", \"trackId\", \"count\", 100)\\\n",
    "            .withColumn(\"next_val\", col(\"norm_count\") * beta_artist_track)\\\n",
    "            .select(col(\"artistId\"), col(\"trackId\"),col(\"next_val\"))\\\n",
    "            .withColumnRenamed(\"artistId\",\"source\")\\\n",
    "            .withColumnRenamed(\"trackId\",\"target\")\\\n",
    "            .cache()"
   ]
  },
  {
   "cell_type": "markdown",
   "metadata": {},
   "source": [
    "## Task 5: user 776748"
   ]
  },
  {
   "cell_type": "code",
   "execution_count": 114,
   "metadata": {},
   "outputs": [],
   "source": [
    "user_only = data.filter(col(\"userId\") == user).withColumn(\"val\",lit(1.0))\n",
    "\n",
    "user_onlyArtist = user_only.alias(\"a\")\\\n",
    "                .select(col(\"artistId\").alias(\"id\"),\"val\")\\\n",
    "                .distinct()\n",
    "    \n",
    "user_onlyTrack = user_only.alias(\"b\")\\\n",
    "                .select(col(\"trackId\").alias(\"id\"),\"val\")\\\n",
    "                .distinct()                "
   ]
  },
  {
   "cell_type": "markdown",
   "metadata": {},
   "source": [
    "## Task 6"
   ]
  },
  {
   "cell_type": "code",
   "execution_count": 115,
   "metadata": {},
   "outputs": [],
   "source": [
    "edges = track_track\\\n",
    "        .union(user_track)\\\n",
    "        .union(user_artist)\\\n",
    "        .union(artist_track)\\\n",
    "        .cache()"
   ]
  },
  {
   "cell_type": "code",
   "execution_count": 116,
   "metadata": {},
   "outputs": [],
   "source": [
    "users_v = data\\\n",
    "        .select(\"userId\")\\\n",
    "        .withColumnRenamed(\"userId\",\"id\")\\\n",
    "        .distinct()\\\n",
    "        .withColumn(\"v\", when(col(\"id\") == user, 1.0).otherwise(0.0))"
   ]
  },
  {
   "cell_type": "code",
   "execution_count": 117,
   "metadata": {},
   "outputs": [],
   "source": [
    "tracks = data\\\n",
    "        .select(col(\"trackId\").alias(\"id\"))\\\n",
    "        .distinct()\\\n",
    "        .join(user_onlyTrack, \"id\", \"left\")\\\n",
    "        .withColumn(\"v\", when(col(\"val\").isNull(), 0.0).otherwise(col(\"val\")))\\\n",
    "        .select(\"id\", \"v\")\n",
    "         "
   ]
  },
  {
   "cell_type": "code",
   "execution_count": 118,
   "metadata": {},
   "outputs": [],
   "source": [
    "artists = data\\\n",
    "        .select(col(\"artistId\").alias(\"id\"))\\\n",
    "        .distinct()\\\n",
    "        .join(user_onlyArtist, \"id\", \"left\")\\\n",
    "        .withColumn(\"v\", when(col(\"val\").isNull(), 0.0).otherwise(col(\"val\")))\\\n",
    "        .select(\"id\", \"v\")"
   ]
  },
  {
   "cell_type": "code",
   "execution_count": 119,
   "metadata": {},
   "outputs": [],
   "source": [
    "x = users_v.union(artists)\\\n",
    "        .union(tracks)\\"
   ]
  },
  {
   "cell_type": "code",
   "execution_count": 120,
   "metadata": {},
   "outputs": [],
   "source": [
    "u = x.withColumn(\"u_idx\", when(col(\"id\") == user, 1.0).otherwise(0.0))\\\n",
    "     .select(col(\"id\"), col(\"u_idx\")) \\\n",
    "     .cache()"
   ]
  },
  {
   "cell_type": "code",
   "execution_count": 121,
   "metadata": {},
   "outputs": [],
   "source": [
    "for _ in range(5):\n",
    "    next_v = x.join(edges, x[\"id\"]==edges[\"source\"], \"left\")\\\n",
    "            .na.fill(0.0, [\"next_val\"])\\\n",
    "            .withColumn(\"acc\", col(\"v\") * col(\"next_val\"))\\\n",
    "            .groupBy(\"target\")\\\n",
    "            .agg(sum(\"acc\").alias(\"sigma\"))\n",
    "\n",
    "    x = u.join(next_v,u[\"id\"]==next_v[\"target\"], \"left\")\\\n",
    "        .na.fill(0.0, [\"sigma\"])\\\n",
    "        .withColumn(\"next_val\", alpha*col(\"u_idx\") + (1-alpha) * col(\"sigma\"))\\\n",
    "        .select(col(\"id\"), col(\"next_val\").alias(\"v\"))\\\n",
    "        .cache()"
   ]
  },
  {
   "cell_type": "code",
   "execution_count": 122,
   "metadata": {},
   "outputs": [],
   "source": [
    "window = Window.orderBy(col(\"v\").desc())\n",
    "        \n",
    "#.orderBy(col(\"v\").desc())        \n",
    "results = x.where(col(\"id\") != user)\\\n",
    ".join(meta, \"id\")\\\n",
    ".withColumn(\"rank\", rank().over(window))\\\n",
    ".select(col(\"Name\"), col(\"Artist\"), round(col(\"v\"), 5))\\\n",
    ".where(\"rank <= 40\").take(40)"
   ]
  },
  {
   "cell_type": "code",
   "execution_count": 123,
   "metadata": {},
   "outputs": [
    {
     "name": "stdout",
     "output_type": "stream",
     "text": [
      "Kill The DJ Artist: Green Day 1.42809\n",
      "Come Out and Play Artist: The Offspring 1.37473\n",
      "I Hate Everything About You Artist: Three Days Grace 1.37362\n",
      "Prayer Of The Refugee Artist: Rise Against 1.35278\n",
      "Eagle Artist: Gotthard 1.21412\n",
      "21 Guns Artist: Green Day 1.17302\n",
      "Beautiful disaster Artist: 311 0.92155\n",
      "Wait And Bleed Artist: Slipknot 0.92155\n",
      "Here To Stay Artist: Korn 0.91653\n",
      "Hard Rock Hallelujah Artist: Lordi 0.91653\n",
      "Nothing Going On Artist: Clawfinger 0.80983\n",
      "In The End Artist: Linkin Park 0.80292\n",
      "Numb Artist: Linkin Park 0.80292\n",
      "Sky is Over Artist: Serj Tankian 0.68799\n",
      "Kryptonite Artist: 3 Doors Down 0.68799\n",
      "Take It Out On Me Artist: Thousand Foot Krutch 0.47024\n",
      "Girls and Boys Artist: Blur 0.40245\n",
      "Cocaine Artist: Nomy 0.20893\n",
      "Getting Away With Murder Artist: Papa Roach 0.20648\n",
      "Artist: Green Day Artist: Green Day 0.01181\n",
      "Artist: Clawfinger Artist: Clawfinger 0.00472\n",
      "Artist: The Offspring Artist: The Offspring 0.00472\n",
      "Artist: Linkin Park Artist: Linkin Park 0.00472\n",
      "The Vengeful One Artist: Disturbed 0.00437\n",
      "She Keeps Me Up Artist: Nickelback 0.00437\n",
      "Sunday Artist: Iggy Pop 0.00437\n",
      "Artist: Iggy Pop Artist: Iggy Pop 0.00236\n",
      "Artist: Gotthard Artist: Gotthard 0.00236\n",
      "Artist: Slipknot Artist: Slipknot 0.00236\n",
      "Artist: Thousand Foot Krutch Artist: Thousand Foot Krutch 0.00236\n",
      "Artist: Papa Roach Artist: Papa Roach 0.00236\n",
      "Artist: Blur Artist: Blur 0.00236\n",
      "Artist: Rise Against Artist: Rise Against 0.00236\n",
      "Artist: Nickelback Artist: Nickelback 0.00236\n",
      "Artist: Serj Tankian Artist: Serj Tankian 0.00236\n",
      "Artist: Three Days Grace Artist: Three Days Grace 0.00236\n",
      "Artist: Disturbed Artist: Disturbed 0.00236\n",
      "Artist: 311 Artist: 311 0.00236\n",
      "Artist: Korn Artist: Korn 0.00236\n",
      "Artist: Nomy Artist: Nomy 0.00236\n"
     ]
    }
   ],
   "source": [
    "for name, artist, V in results:\n",
    "    print(\"{} {} {}\".format(name, artist, V))"
   ]
  },
  {
   "cell_type": "code",
   "execution_count": null,
   "metadata": {},
   "outputs": [],
   "source": []
  }
 ],
 "metadata": {
  "kernelspec": {
   "display_name": "Python 2",
   "language": "python",
   "name": "python2"
  },
  "language_info": {
   "codemirror_mode": {
    "name": "ipython",
    "version": 2
   },
   "file_extension": ".py",
   "mimetype": "text/x-python",
   "name": "python",
   "nbconvert_exporter": "python",
   "pygments_lexer": "ipython2",
   "version": "2.7.12"
  }
 },
 "nbformat": 4,
 "nbformat_minor": 2
}
