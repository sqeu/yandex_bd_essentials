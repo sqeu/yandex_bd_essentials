{
 "cells": [
  {
   "cell_type": "markdown",
   "metadata": {
    "colab_type": "text",
    "id": "ZfiL39OTJ5sR"
   },
   "source": [
    "# Hive assignment 3"
   ]
  },
  {
   "cell_type": "code",
   "execution_count": 14,
   "metadata": {},
   "outputs": [
    {
     "name": "stdout",
     "output_type": "stream",
     "text": [
      "Overwriting assg2_result.hql\n"
     ]
    }
   ],
   "source": [
    "%%writefile assg2_result.hql\n",
    "-- Your code here\n",
    "ADD JAR /opt/cloudera/parcels/CDH/lib/hive/lib/hive-contrib.jar;\n",
    "ADD JAR /opt/cloudera/parcels/CDH/lib/hive/lib/hive-serde.jar;\n",
    "\n",
    "use stackoverflow_;\n",
    "\n",
    "select concat_ws(\"\\t\",cast(age as string),cast(question as string),cast(answer as string))\n",
    "from\n",
    "(SELECT u.age as age,\n",
    "sum(if(p.post_type_id=1,1,0)) as question,\n",
    "sum(if(p.post_type_id=2,1,0)) as answer\n",
    "from users U\n",
    "join posts  P\n",
    "on u.id=p.owner_user_id\n",
    "where u.age is not null\n",
    "group by age\n",
    "order by age) a;\n",
    "\n"
   ]
  },
  {
   "cell_type": "code",
   "execution_count": 15,
   "metadata": {},
   "outputs": [
    {
     "name": "stdout",
     "output_type": "stream",
     "text": [
      "\n",
      "Logging initialized using configuration in jar:file:/usr/local/apache-hive-1.1.0-bin/lib/hive-common-1.1.0.jar!/hive-log4j.properties\n",
      "Added [/opt/cloudera/parcels/CDH/lib/hive/lib/hive-contrib.jar] to class path\n",
      "Added resources: [/opt/cloudera/parcels/CDH/lib/hive/lib/hive-contrib.jar]\n",
      "Added [/opt/cloudera/parcels/CDH/lib/hive/lib/hive-serde.jar] to class path\n",
      "Added resources: [/opt/cloudera/parcels/CDH/lib/hive/lib/hive-serde.jar]\n",
      "OK\n",
      "Time taken: 0.888 seconds\n",
      "Query ID = jovyan_20190930053232_0b86f0d5-0b1b-4015-8fac-43aecdebf8c8\n",
      "Total jobs = 2\n",
      "Execution log at: /tmp/jovyan/jovyan_20190930053232_0b86f0d5-0b1b-4015-8fac-43aecdebf8c8.log\n",
      "2019-09-30 05:32:31\tStarting to launch local task to process map join;\tmaximum memory = 518979584\n",
      "2019-09-30 05:32:33\tDump the side-table for tag: 0 with group count: 5951 into file: file:/tmp/jovyan/6c1dca9e-d85a-4f7f-8b7f-634f3bdba637/hive_2019-09-30_05-32-20_786_8991535588176899997-1/-local-10005/HashTable-Stage-2/MapJoin-mapfile00--.hashtable\n",
      "2019-09-30 05:32:33\tUploaded 1 File to: file:/tmp/jovyan/6c1dca9e-d85a-4f7f-8b7f-634f3bdba637/hive_2019-09-30_05-32-20_786_8991535588176899997-1/-local-10005/HashTable-Stage-2/MapJoin-mapfile00--.hashtable (137665 bytes)\n",
      "2019-09-30 05:32:33\tEnd of local task; Time Taken: 1.846 sec.\n",
      "Execution completed successfully\n",
      "MapredLocal task succeeded\n",
      "Launching Job 1 out of 2\n",
      "Number of reduce tasks not specified. Estimated from input data size: 1\n",
      "In order to change the average load for a reducer (in bytes):\n",
      "  set hive.exec.reducers.bytes.per.reducer=<number>\n",
      "In order to limit the maximum number of reducers:\n",
      "  set hive.exec.reducers.max=<number>\n",
      "In order to set a constant number of reducers:\n",
      "  set mapreduce.job.reduces=<number>\n",
      "Starting Job = job_1569814256823_0004, Tracking URL = http://d37663a6e069:8088/proxy/application_1569814256823_0004/\n",
      "Kill Command = /opt/hadoop/bin/hadoop job  -kill job_1569814256823_0004\n",
      "Hadoop job information for Stage-2: number of mappers: 1; number of reducers: 1\n",
      "2019-09-30 05:32:52,309 Stage-2 map = 0%,  reduce = 0%\n",
      "2019-09-30 05:33:07,503 Stage-2 map = 100%,  reduce = 0%, Cumulative CPU 3.93 sec\n",
      "2019-09-30 05:33:17,561 Stage-2 map = 100%,  reduce = 100%, Cumulative CPU 5.56 sec\n",
      "MapReduce Total cumulative CPU time: 5 seconds 560 msec\n",
      "Ended Job = job_1569814256823_0004\n",
      "Launching Job 2 out of 2\n",
      "Number of reduce tasks determined at compile time: 1\n",
      "In order to change the average load for a reducer (in bytes):\n",
      "  set hive.exec.reducers.bytes.per.reducer=<number>\n",
      "In order to limit the maximum number of reducers:\n",
      "  set hive.exec.reducers.max=<number>\n",
      "In order to set a constant number of reducers:\n",
      "  set mapreduce.job.reduces=<number>\n",
      "Starting Job = job_1569814256823_0005, Tracking URL = http://d37663a6e069:8088/proxy/application_1569814256823_0005/\n",
      "Kill Command = /opt/hadoop/bin/hadoop job  -kill job_1569814256823_0005\n",
      "Hadoop job information for Stage-3: number of mappers: 1; number of reducers: 1\n",
      "2019-09-30 05:33:34,755 Stage-3 map = 0%,  reduce = 0%\n",
      "2019-09-30 05:33:43,505 Stage-3 map = 100%,  reduce = 0%, Cumulative CPU 1.09 sec\n",
      "2019-09-30 05:33:53,197 Stage-3 map = 100%,  reduce = 100%, Cumulative CPU 3.05 sec\n",
      "MapReduce Total cumulative CPU time: 3 seconds 50 msec\n",
      "Ended Job = job_1569814256823_0005\n",
      "MapReduce Jobs Launched: \n",
      "Stage-Stage-2: Map: 1  Reduce: 1   Cumulative CPU: 5.56 sec   HDFS Read: 2259980 HDFS Write: 1056 SUCCESS\n",
      "Stage-Stage-3: Map: 1  Reduce: 1   Cumulative CPU: 3.05 sec   HDFS Read: 5902 HDFS Write: 376 SUCCESS\n",
      "Total MapReduce CPU Time Spent: 8 seconds 610 msec\n",
      "OK\n",
      "14\t1\t0\n",
      "15\t1\t2\n",
      "16\t2\t0\n",
      "17\t0\t1\n",
      "18\t4\t1\n",
      "19\t1\t1\n",
      "20\t0\t2\n",
      "21\t11\t24\n",
      "22\t6\t18\n",
      "23\t12\t15\n",
      "24\t16\t27\n",
      "25\t20\t33\n",
      "26\t23\t44\n",
      "27\t28\t56\n",
      "28\t24\t37\n",
      "29\t24\t66\n",
      "30\t26\t67\n",
      "31\t17\t33\n",
      "32\t13\t48\n",
      "33\t11\t40\n",
      "34\t24\t36\n",
      "35\t12\t42\n",
      "36\t8\t64\n",
      "37\t9\t35\n",
      "38\t6\t17\n",
      "39\t3\t7\n",
      "40\t1\t13\n",
      "41\t5\t20\n",
      "42\t5\t22\n",
      "43\t2\t26\n",
      "44\t7\t35\n",
      "45\t1\t4\n",
      "46\t7\t9\n",
      "47\t1\t1\n",
      "48\t1\t1\n",
      "49\t1\t26\n",
      "50\t1\t26\n",
      "51\t4\t5\n",
      "52\t0\t2\n",
      "53\t0\t2\n",
      "54\t0\t1\n",
      "57\t0\t3\n",
      "58\t1\t57\n",
      "60\t0\t6\n",
      "61\t0\t3\n",
      "64\t2\t1\n",
      "86\t0\t1\n",
      "96\t3\t1\n",
      "Time taken: 93.531 seconds, Fetched: 48 row(s)\n"
     ]
    }
   ],
   "source": [
    "!hive -f assg2_result.hql"
   ]
  }
 ],
 "metadata": {
  "colab": {
   "collapsed_sections": [],
   "default_view": {},
   "name": "901_to_students.ipynb",
   "provenance": [],
   "toc_visible": true,
   "version": "0.3.2",
   "views": {}
  },
  "kernelspec": {
   "display_name": "Python 3",
   "language": "python",
   "name": "python3"
  },
  "language_info": {
   "codemirror_mode": {
    "name": "ipython",
    "version": 3
   },
   "file_extension": ".py",
   "mimetype": "text/x-python",
   "name": "python",
   "nbconvert_exporter": "python",
   "pygments_lexer": "ipython3",
   "version": "3.6.2"
  }
 },
 "nbformat": 4,
 "nbformat_minor": 1
}
