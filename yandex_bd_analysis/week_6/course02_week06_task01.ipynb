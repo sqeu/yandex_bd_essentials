{
 "cells": [
  {
   "cell_type": "code",
   "execution_count": 1,
   "metadata": {},
   "outputs": [],
   "source": [
    "from pyspark.sql.types import StructType, StructField, IntegerType\n",
    "from pyspark.sql.functions import *"
   ]
  },
  {
   "cell_type": "code",
   "execution_count": 2,
   "metadata": {},
   "outputs": [],
   "source": [
    "from pyspark.sql import SparkSession\n",
    "spark = SparkSession.builder.enableHiveSupport().master(\"local[2]\").getOrCreate()"
   ]
  },
  {
   "cell_type": "code",
   "execution_count": 3,
   "metadata": {},
   "outputs": [],
   "source": [
    "graph_schema = StructType([\n",
    "    StructField(\"to\", IntegerType(), False),\n",
    "    StructField(\"from\", IntegerType(), False)\n",
    "])"
   ]
  },
  {
   "cell_type": "code",
   "execution_count": 4,
   "metadata": {},
   "outputs": [],
   "source": [
    "dist_schema = StructType([\n",
    "    StructField(\"vertex\", IntegerType(), False),\n",
    "    StructField(\"distance\", IntegerType(), False)\n",
    "])"
   ]
  },
  {
   "cell_type": "code",
   "execution_count": 5,
   "metadata": {},
   "outputs": [],
   "source": [
    "def shortest_path(v_from, v_to, dataset_path=None):\n",
    "    edges = spark.read.csv(dataset_path, sep=\"\\t\", schema=graph_schema).cache()\n",
    "    path_length = None\n",
    "    \n",
    "    # Here you should implement the BFS algorithm. It should return the length\n",
    "    # of the minimal path (single integer) between v_from and v_to\n",
    "    distances = edges.where(edges[\"from\"]==12)\\\n",
    "    .withColumn(\"distance\",lit(0))\\\n",
    "    .withColumnRenamed(\"to\",\"to_d\")\\\n",
    "    .withColumnRenamed(\"from\",\"from_d\")\n",
    "    while True:\n",
    "        new_distances = distances.join(edges,distances[\"to_d\"] == edges[\"from\"])\\\n",
    "        .withColumn(\"distance_t\",col(\"distance\")+1)\\\n",
    "        .drop(\"distance\")\\\n",
    "        .withColumnRenamed(\"distance_t\",\"distance\")\\\n",
    "        .select(\"distance\",\"to\",\"from\")\\\n",
    "        .withColumnRenamed(\"from\",\"from_d\")\\\n",
    "        .withColumnRenamed(\"to\",\"to_d\").persist()\n",
    "\n",
    "        result = new_distances.where(new_distances[\"from_d\"]==v_to).select(\"distance\").take(1)\n",
    "        if len(result)>0:\n",
    "            path_length=result[0].distance\n",
    "            break\n",
    "        else:\n",
    "            distances=new_distances\n",
    "    \n",
    "    return path_length"
   ]
  },
  {
   "cell_type": "code",
   "execution_count": 6,
   "metadata": {},
   "outputs": [
    {
     "name": "stdout",
     "output_type": "stream",
     "text": [
      "8\n"
     ]
    }
   ],
   "source": [
    "print shortest_path(12, 34, \"/data/twitter/twitter_sample2.txt\")"
   ]
  }
 ],
 "metadata": {
  "kernelspec": {
   "display_name": "Python 2",
   "language": "python",
   "name": "python2"
  },
  "language_info": {
   "codemirror_mode": {
    "name": "ipython",
    "version": 2
   },
   "file_extension": ".py",
   "mimetype": "text/x-python",
   "name": "python",
   "nbconvert_exporter": "python",
   "pygments_lexer": "ipython2",
   "version": "2.7.12"
  }
 },
 "nbformat": 4,
 "nbformat_minor": 2
}
