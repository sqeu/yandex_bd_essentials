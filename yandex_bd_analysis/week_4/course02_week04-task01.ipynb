{
 "cells": [
  {
   "cell_type": "code",
   "execution_count": 1,
   "metadata": {},
   "outputs": [
    {
     "name": "stdout",
     "output_type": "stream",
     "text": [
      "Welcome to\n",
      "      ____              __\n",
      "     / __/__  ___ _____/ /__\n",
      "    _\\ \\/ _ \\/ _ `/ __/  '_/\n",
      "   /__ / .__/\\_,_/_/ /_/\\_\\   version 2.1.1\n",
      "      /_/\n",
      "\n",
      "Using Python version 2.7.12 (default, Nov 19 2016 06:48:10)\n",
      "SparkSession available as 'spark'.\n"
     ]
    }
   ],
   "source": [
    "import os\n",
    "execfile(os.path.join(os.environ[\"SPARK_HOME\"], 'python/pyspark/shell.py'))"
   ]
  },
  {
   "cell_type": "code",
   "execution_count": 2,
   "metadata": {},
   "outputs": [],
   "source": [
    "from pyspark.sql import SparkSession\n",
    "sparkSession = SparkSession.builder.enableHiveSupport().master(\"local [2]\").getOrCreate()"
   ]
  },
  {
   "cell_type": "code",
   "execution_count": 3,
   "metadata": {},
   "outputs": [],
   "source": [
    "graphPath = \"/data/graphDFSample\""
   ]
  },
  {
   "cell_type": "code",
   "execution_count": 4,
   "metadata": {},
   "outputs": [],
   "source": [
    "from pyspark.sql.functions import explode, collect_list, size, col, row_number,sort_array,udf\n",
    "from pyspark.sql import Window\n",
    "from pyspark.sql.types import LongType,ArrayType\n",
    "\n",
    "def list_pairs(users):\n",
    "    pairs=[]\n",
    "    for user in users:\n",
    "        for pair in users:\n",
    "            if user != pair and user<pair:\n",
    "                pairs.append((user,pair))\n",
    "    return pairs\n",
    "\n",
    "list_pairs_udf = udf(list_pairs,ArrayType(ArrayType(LongType())))"
   ]
  },
  {
   "cell_type": "code",
   "execution_count": 5,
   "metadata": {},
   "outputs": [],
   "source": [
    "reversedGraph = sparkSession.read.parquet(graphPath) \\\n",
    "    .withColumn(\"friend\", explode('friends')) \\\n",
    "    .groupBy(\"friend\") \\\n",
    "    .agg(collect_list(\"user\").alias(\"users\")) \\\n",
    "    .withColumn(\"users_size\", size(\"users\")) \\\n",
    "    .withColumn(\"sorted_user\", sort_array(\"users\"))\\\n",
    "    .where(\"users_size > 1\")\\\n",
    "    .withColumn(\"pairs\",list_pairs_udf(\"sorted_user\"))\\\n",
    "    .withColumn(\"all_pairs\",explode(\"pairs\"))"
   ]
  },
  {
   "cell_type": "code",
   "execution_count": 6,
   "metadata": {},
   "outputs": [],
   "source": [
    "window = Window.orderBy(col(\"count\").desc())"
   ]
  },
  {
   "cell_type": "code",
   "execution_count": 16,
   "metadata": {},
   "outputs": [],
   "source": [
    "top50 = reversedGraph.groupBy(\"all_pairs\")\\\n",
    "            .count()\\\n",
    "            .withColumn(\"row_number\", row_number().over(window)) \\\n",
    "            .filter(col(\"row_number\") < 50) \\\n",
    "            .orderBy(col(\"count\").desc()) \\\n",
    "            .select(\"all_pairs\",\"count\") \\\n",
    "            .collect()"
   ]
  },
  {
   "cell_type": "code",
   "execution_count": 23,
   "metadata": {},
   "outputs": [
    {
     "name": "stdout",
     "output_type": "stream",
     "text": [
      "901 13878153 64040607\n",
      "482 39037059 62716987\n",
      "200 9825755 13730644\n",
      "60 13730644 13802436\n",
      "49 9825755 13802436\n",
      "45 9825755 24320891\n",
      "28 5582333 45023113\n",
      "26 5796650 13730644\n",
      "26 5796650 13802436\n",
      "20 13730644 24320891\n",
      "20 6021591 61751428\n",
      "19 24320891 37450332\n",
      "17 5796650 9825755\n",
      "17 6021591 34970445\n",
      "15 37408934 37821698\n",
      "14 22312953 37735419\n",
      "14 19071788 22991438\n",
      "13 9825755 37408934\n",
      "11 13730644 37408934\n",
      "10 29439114 61751428\n",
      "9 13802436 24320891\n",
      "9 9825755 20871861\n",
      "8 20871861 24320891\n",
      "8 13878153 62716987\n",
      "8 62716987 64040607\n",
      "8 9825755 16958135\n",
      "7 37735419 61751428\n",
      "7 18094770 31863190\n",
      "6 13878153 39037059\n",
      "6 39037059 64040607\n",
      "6 9825755 18094770\n",
      "6 12886695 31863190\n",
      "6 9825755 22991438\n",
      "6 9825755 37450332\n",
      "6 13730644 37735419\n",
      "6 13730644 61751428\n",
      "6 13730644 35448979\n",
      "6 22312953 61751428\n",
      "5 13730644 20871861\n",
      "5 13802436 22991438\n",
      "5 9825755 61751428\n",
      "5 9825755 38137713\n",
      "5 15002145 38137713\n",
      "5 13802436 20871861\n",
      "5 34970445 61751428\n",
      "5 22991438 61751428\n",
      "5 12886695 18094770\n",
      "4 28404521 35436637\n",
      "4 13730644 18094770\n"
     ]
    }
   ],
   "source": [
    "for pair,count in top50:\n",
    "    print '%s %s %s' % (count , pair[0],pair[1])"
   ]
  }
 ],
 "metadata": {
  "kernelspec": {
   "display_name": "Python 2",
   "language": "python",
   "name": "python2"
  },
  "language_info": {
   "codemirror_mode": {
    "name": "ipython",
    "version": 2
   },
   "file_extension": ".py",
   "mimetype": "text/x-python",
   "name": "python",
   "nbconvert_exporter": "python",
   "pygments_lexer": "ipython2",
   "version": "2.7.12"
  }
 },
 "nbformat": 4,
 "nbformat_minor": 2
}
