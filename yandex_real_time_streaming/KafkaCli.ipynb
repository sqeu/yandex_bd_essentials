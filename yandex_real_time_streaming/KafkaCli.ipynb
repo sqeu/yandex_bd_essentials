{
 "cells": [
  {
   "cell_type": "markdown",
   "metadata": {
    "colab_type": "text",
    "id": "5l6hRRC-Z3lt"
   },
   "source": [
    "## Kafka CLI\n",
    "\n",
    "This is the Kafka environment where you should implement the tasks described below. Each task should be solved using a shell script or a single shell command. Please write the tasks in the required cells, without changing any other cells. Some tasks require kernel interruption so don't be afraid to interrupt the kernel if you see that the tasks don't stop for a long time.\n",
    "\n",
    "The following urls of the Kafka infrastructure will be useful for the tasks:\n",
    "\n",
    "|Service|URL|\n",
    "|------|----|\n",
    "|Zookeeper server|localhost:2181|\n",
    "|Kafka broker|localhost:9092|\n",
    "|Bootstrap server|localhost:9092|\n",
    "<br>\n",
    "\n",
    "You must use only the following commands for the task completion:\n",
    "\n",
    "|Command|Command description|\n",
    "|------|----|\n",
    "|`kafka-topics.sh`|creates, deletes, describes, or changes a topic|\n",
    "|`kafka-console-producer.sh`|reads data from standard input and publish it to certain topic|\n",
    "|`kafka-console-consumer.sh`|reads data from the topic and outputs it to standard output|\n",
    "|`kafka-run-class.sh`|the tool for executing third-party Java classes in Kafka (e.g. you can run `kafka.tools.GetOffsetShell` with this tool)|\n",
    "|`kafka.tools.GetOffsetShell`|an interactive shell for getting consumer offsets from `kafka-run-class.sh` entry point |\n",
    "\n",
    "<br>\n",
    "\n",
    "The name of the topic must be `\"my-topic\"`"
   ]
  },
  {
   "cell_type": "markdown",
   "metadata": {
    "colab_type": "text",
    "id": "CByVqQQVZ3lx"
   },
   "source": [
    "**Task 1** Create a topic with the name `\"my-topic\"` with *N partitons* and *M replications*. E.g. *N = 5, M = 2*."
   ]
  },
  {
   "cell_type": "code",
   "execution_count": 1,
   "metadata": {
    "colab": {},
    "colab_type": "code",
    "id": "xmjwDZhRUUBJ"
   },
   "outputs": [
    {
     "name": "stdout",
     "output_type": "stream",
     "text": [
      "Created topic \"my-topic\".\n"
     ]
    }
   ],
   "source": [
    "%%bash\n",
    "# Type you code here \n",
    "kafka-topics.sh --zookeeper localhost:2181 --create --topic my-topic --partitions 2 --replication-factor 2"
   ]
  },
  {
   "cell_type": "markdown",
   "metadata": {
    "colab_type": "text",
    "id": "MVuQE-mIZ3l-"
   },
   "source": [
    "**Task 2.** List all the available topics."
   ]
  },
  {
   "cell_type": "code",
   "execution_count": 2,
   "metadata": {
    "colab": {},
    "colab_type": "code",
    "id": "pqw7KkTZZ3mC"
   },
   "outputs": [
    {
     "name": "stdout",
     "output_type": "stream",
     "text": [
      "__consumer_offsets\n",
      "my-topic\n",
      "my-topich\n"
     ]
    }
   ],
   "source": [
    "%%bash\n",
    "kafka-topics.sh --zookeeper localhost:2181 --list"
   ]
  },
  {
   "cell_type": "markdown",
   "metadata": {
    "colab_type": "text",
    "id": "yFIn1qnRZ3mJ"
   },
   "source": [
    "**Task 3.**  Get the description of the topic created in task 1."
   ]
  },
  {
   "cell_type": "code",
   "execution_count": 3,
   "metadata": {
    "colab": {},
    "colab_type": "code",
    "id": "9ASQGneDZ3mK"
   },
   "outputs": [
    {
     "name": "stdout",
     "output_type": "stream",
     "text": [
      "Topic:my-topic\tPartitionCount:2\tReplicationFactor:2\tConfigs:\n",
      "\tTopic: my-topic\tPartition: 0\tLeader: 1\tReplicas: 1,0\tIsr: 1,0\n",
      "\tTopic: my-topic\tPartition: 1\tLeader: 2\tReplicas: 2,1\tIsr: 2,1\n"
     ]
    }
   ],
   "source": [
    "%%bash\n",
    "kafka-topics.sh --zookeeper localhost:2181 --describe --topic my-topic"
   ]
  },
  {
   "cell_type": "markdown",
   "metadata": {
    "colab_type": "text",
    "id": "n5SJPm1PZ3mP"
   },
   "source": [
    "**Task 4.** Push the numbers from 1 to 20 into the topic created in task 1. Each number should be pushed as an independent action."
   ]
  },
  {
   "cell_type": "code",
   "execution_count": 4,
   "metadata": {
    "colab": {},
    "colab_type": "code",
    "id": "yKa0bM4vZ3mS"
   },
   "outputs": [
    {
     "name": "stdout",
     "output_type": "stream",
     "text": [
      ">>>>>>>>>>>>>>>>>>>>>"
     ]
    }
   ],
   "source": [
    "%%bash\n",
    "seq 1 20 | kafka-console-producer.sh --broker-list localhost:9092 --topic my-topic"
   ]
  },
  {
   "cell_type": "markdown",
   "metadata": {
    "colab_type": "text",
    "id": "s9P4rMWAZ3mZ"
   },
   "source": [
    "**Task 5.** Fetch all the data from the topic. Make sure that Kafka doesn't store the order of messages (in this case message is a number passed to the topic)."
   ]
  },
  {
   "cell_type": "code",
   "execution_count": 7,
   "metadata": {
    "colab": {},
    "colab_type": "code",
    "id": "zGJnbR2EZ3mZ"
   },
   "outputs": [
    {
     "name": "stdout",
     "output_type": "stream",
     "text": [
      "2\n",
      "4\n",
      "6\n",
      "8\n",
      "10\n",
      "12\n",
      "14\n",
      "16\n",
      "18\n",
      "20\n",
      "1\n",
      "3\n",
      "5\n",
      "7\n",
      "9\n",
      "11\n",
      "13\n",
      "15\n",
      "17\n",
      "19\n",
      "^C\n",
      "Processed a total of 20 messages\n"
     ]
    }
   ],
   "source": [
    "!kafka-console-consumer.sh --bootstrap-server localhost:9092 --topic my-topic --from-beginning"
   ]
  },
  {
   "cell_type": "markdown",
   "metadata": {
    "colab_type": "text",
    "id": "gG_lydgtZ3me"
   },
   "source": [
    "**Task 6.** Fetch the data from any partition *k, k < N*"
   ]
  },
  {
   "cell_type": "code",
   "execution_count": 8,
   "metadata": {
    "colab": {},
    "colab_type": "code",
    "id": "PfVMPn5pZ3me"
   },
   "outputs": [
    {
     "name": "stdout",
     "output_type": "stream",
     "text": [
      "1\n",
      "3\n",
      "5\n",
      "7\n",
      "9\n",
      "11\n",
      "13\n",
      "15\n",
      "17\n",
      "19\n",
      "^C\n",
      "Processed a total of 10 messages\n"
     ]
    }
   ],
   "source": [
    "!kafka-console-consumer.sh --bootstrap-server localhost:9092 --topic my-topic --partition 1 --from-beginning"
   ]
  },
  {
   "cell_type": "markdown",
   "metadata": {
    "colab_type": "text",
    "id": "rW-5mybzZ3mg"
   },
   "source": [
    "**Task 7.** Get the latest offset from all the partitions."
   ]
  },
  {
   "cell_type": "code",
   "execution_count": 13,
   "metadata": {
    "colab": {},
    "colab_type": "code",
    "id": "UMp3PB4wUUBg"
   },
   "outputs": [
    {
     "name": "stdout",
     "output_type": "stream",
     "text": [
      "my-topic:1:10\r\n",
      "my-topic:0:10\r\n"
     ]
    }
   ],
   "source": [
    "!kafka-run-class.sh kafka.tools.GetOffsetShell --broker-list localhost:9092 --time -1 --topic my-topic"
   ]
  }
 ],
 "metadata": {
  "colab": {
   "collapsed_sections": [],
   "name": "KafkaCli.ipynb",
   "provenance": [],
   "version": "0.3.2"
  },
  "kernelspec": {
   "display_name": "Python 3",
   "language": "python",
   "name": "python3"
  },
  "language_info": {
   "codemirror_mode": {
    "name": "ipython",
    "version": 3
   },
   "file_extension": ".py",
   "mimetype": "text/x-python",
   "name": "python",
   "nbconvert_exporter": "python",
   "pygments_lexer": "ipython3",
   "version": "3.6.2"
  }
 },
 "nbformat": 4,
 "nbformat_minor": 1
}
